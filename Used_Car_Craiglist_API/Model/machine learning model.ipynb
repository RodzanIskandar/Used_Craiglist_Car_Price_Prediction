{
 "cells": [
  {
   "cell_type": "code",
   "execution_count": 4,
   "metadata": {},
   "outputs": [],
   "source": [
    "import pandas as pd\n",
    "import matplotlib.pyplot as plt\n",
    "import numpy as np\n",
    "import seaborn as sns\n",
    "import warnings\n",
    "warnings.filterwarnings('ignore')"
   ]
  },
  {
   "cell_type": "code",
   "execution_count": 5,
   "metadata": {},
   "outputs": [],
   "source": [
    "df = pd.read_csv('used car craiglist data.csv')"
   ]
  },
  {
   "cell_type": "code",
   "execution_count": 6,
   "metadata": {},
   "outputs": [],
   "source": [
    "df2 = df.copy()"
   ]
  },
  {
   "cell_type": "code",
   "execution_count": 7,
   "metadata": {},
   "outputs": [
    {
     "data": {
      "text/plain": [
       "Index(['price', 'manufacturer', 'condition', 'cylinders', 'fuel', 'odometer',\n",
       "       'transmission', 'drive', 'type', 'age', 'car_size'],\n",
       "      dtype='object')"
      ]
     },
     "execution_count": 7,
     "metadata": {},
     "output_type": "execute_result"
    }
   ],
   "source": [
    "df.columns"
   ]
  },
  {
   "cell_type": "code",
   "execution_count": 8,
   "metadata": {},
   "outputs": [
    {
     "data": {
      "text/html": [
       "<div>\n",
       "<style scoped>\n",
       "    .dataframe tbody tr th:only-of-type {\n",
       "        vertical-align: middle;\n",
       "    }\n",
       "\n",
       "    .dataframe tbody tr th {\n",
       "        vertical-align: top;\n",
       "    }\n",
       "\n",
       "    .dataframe thead th {\n",
       "        text-align: right;\n",
       "    }\n",
       "</style>\n",
       "<table border=\"1\" class=\"dataframe\">\n",
       "  <thead>\n",
       "    <tr style=\"text-align: right;\">\n",
       "      <th></th>\n",
       "      <th>price</th>\n",
       "      <th>manufacturer</th>\n",
       "      <th>condition</th>\n",
       "      <th>cylinders</th>\n",
       "      <th>fuel</th>\n",
       "      <th>odometer</th>\n",
       "      <th>transmission</th>\n",
       "      <th>drive</th>\n",
       "      <th>type</th>\n",
       "      <th>age</th>\n",
       "      <th>car_size</th>\n",
       "    </tr>\n",
       "  </thead>\n",
       "  <tbody>\n",
       "    <tr>\n",
       "      <th>0</th>\n",
       "      <td>9500</td>\n",
       "      <td>chrysler</td>\n",
       "      <td>excellent</td>\n",
       "      <td>6 cylinders</td>\n",
       "      <td>gas</td>\n",
       "      <td>30376.0</td>\n",
       "      <td>automatic</td>\n",
       "      <td>fwd</td>\n",
       "      <td>mini-van</td>\n",
       "      <td>18.0</td>\n",
       "      <td>mid-size</td>\n",
       "    </tr>\n",
       "    <tr>\n",
       "      <th>1</th>\n",
       "      <td>18250</td>\n",
       "      <td>toyota</td>\n",
       "      <td>good</td>\n",
       "      <td>6 cylinders</td>\n",
       "      <td>gas</td>\n",
       "      <td>201300.0</td>\n",
       "      <td>manual</td>\n",
       "      <td>4wd</td>\n",
       "      <td>offroad</td>\n",
       "      <td>13.0</td>\n",
       "      <td>full-size</td>\n",
       "    </tr>\n",
       "    <tr>\n",
       "      <th>2</th>\n",
       "      <td>6800</td>\n",
       "      <td>other</td>\n",
       "      <td>excellent</td>\n",
       "      <td>6 cylinders</td>\n",
       "      <td>diesel</td>\n",
       "      <td>180000.0</td>\n",
       "      <td>automatic</td>\n",
       "      <td>rwd</td>\n",
       "      <td>bus</td>\n",
       "      <td>16.0</td>\n",
       "      <td>full-size</td>\n",
       "    </tr>\n",
       "    <tr>\n",
       "      <th>3</th>\n",
       "      <td>2500</td>\n",
       "      <td>other</td>\n",
       "      <td>good</td>\n",
       "      <td>6 cylinders</td>\n",
       "      <td>gas</td>\n",
       "      <td>47000.0</td>\n",
       "      <td>manual</td>\n",
       "      <td>rwd</td>\n",
       "      <td>pickup</td>\n",
       "      <td>55.0</td>\n",
       "      <td>full-size</td>\n",
       "    </tr>\n",
       "    <tr>\n",
       "      <th>4</th>\n",
       "      <td>4000</td>\n",
       "      <td>jeep</td>\n",
       "      <td>good</td>\n",
       "      <td>6 cylinders</td>\n",
       "      <td>gas</td>\n",
       "      <td>281000.0</td>\n",
       "      <td>automatic</td>\n",
       "      <td>rwd</td>\n",
       "      <td>SUV</td>\n",
       "      <td>15.0</td>\n",
       "      <td>mid-size</td>\n",
       "    </tr>\n",
       "  </tbody>\n",
       "</table>\n",
       "</div>"
      ],
      "text/plain": [
       "   price manufacturer  condition    cylinders    fuel  odometer transmission  \\\n",
       "0   9500     chrysler  excellent  6 cylinders     gas   30376.0    automatic   \n",
       "1  18250       toyota       good  6 cylinders     gas  201300.0       manual   \n",
       "2   6800        other  excellent  6 cylinders  diesel  180000.0    automatic   \n",
       "3   2500        other       good  6 cylinders     gas   47000.0       manual   \n",
       "4   4000         jeep       good  6 cylinders     gas  281000.0    automatic   \n",
       "\n",
       "  drive      type   age   car_size  \n",
       "0   fwd  mini-van  18.0   mid-size  \n",
       "1   4wd   offroad  13.0  full-size  \n",
       "2   rwd       bus  16.0  full-size  \n",
       "3   rwd    pickup  55.0  full-size  \n",
       "4   rwd       SUV  15.0   mid-size  "
      ]
     },
     "execution_count": 8,
     "metadata": {},
     "output_type": "execute_result"
    }
   ],
   "source": [
    "df.head()"
   ]
  },
  {
   "cell_type": "markdown",
   "metadata": {},
   "source": [
    "### Prepare the dataset"
   ]
  },
  {
   "cell_type": "code",
   "execution_count": 9,
   "metadata": {},
   "outputs": [],
   "source": [
    "from sklearn.preprocessing import LabelEncoder\n",
    "\n",
    "cat_columns = ['manufacturer', 'condition', 'cylinders', 'fuel', 'transmission', 'drive', 'type', 'car_size']\n",
    "\n",
    "le = {}\n",
    "\n",
    "for col in cat_columns:\n",
    "    if col in df.columns:\n",
    "        le[col] = LabelEncoder()\n",
    "        le[col].fit(list(df[col].astype(str).values))\n",
    "        df[col] = le[col].transform(list(df[col].astype(str).values))"
   ]
  },
  {
   "cell_type": "markdown",
   "metadata": {},
   "source": [
    "I used the label encoder rather than dummy to get simpler model with the least features in the model, cause in the data the categorical column ratio is 8 out of 10. I can also use dummy with the same result, but its increase the computational cost."
   ]
  },
  {
   "cell_type": "code",
   "execution_count": 10,
   "metadata": {},
   "outputs": [
    {
     "data": {
      "text/html": [
       "<div>\n",
       "<style scoped>\n",
       "    .dataframe tbody tr th:only-of-type {\n",
       "        vertical-align: middle;\n",
       "    }\n",
       "\n",
       "    .dataframe tbody tr th {\n",
       "        vertical-align: top;\n",
       "    }\n",
       "\n",
       "    .dataframe thead th {\n",
       "        text-align: right;\n",
       "    }\n",
       "</style>\n",
       "<table border=\"1\" class=\"dataframe\">\n",
       "  <thead>\n",
       "    <tr style=\"text-align: right;\">\n",
       "      <th></th>\n",
       "      <th>price</th>\n",
       "      <th>manufacturer</th>\n",
       "      <th>condition</th>\n",
       "      <th>cylinders</th>\n",
       "      <th>fuel</th>\n",
       "      <th>odometer</th>\n",
       "      <th>transmission</th>\n",
       "      <th>drive</th>\n",
       "      <th>type</th>\n",
       "      <th>age</th>\n",
       "      <th>car_size</th>\n",
       "    </tr>\n",
       "  </thead>\n",
       "  <tbody>\n",
       "    <tr>\n",
       "      <th>0</th>\n",
       "      <td>9500</td>\n",
       "      <td>8</td>\n",
       "      <td>0</td>\n",
       "      <td>5</td>\n",
       "      <td>2</td>\n",
       "      <td>30376.0</td>\n",
       "      <td>0</td>\n",
       "      <td>1</td>\n",
       "      <td>5</td>\n",
       "      <td>18.0</td>\n",
       "      <td>2</td>\n",
       "    </tr>\n",
       "    <tr>\n",
       "      <th>1</th>\n",
       "      <td>18250</td>\n",
       "      <td>39</td>\n",
       "      <td>2</td>\n",
       "      <td>5</td>\n",
       "      <td>2</td>\n",
       "      <td>201300.0</td>\n",
       "      <td>1</td>\n",
       "      <td>0</td>\n",
       "      <td>6</td>\n",
       "      <td>13.0</td>\n",
       "      <td>1</td>\n",
       "    </tr>\n",
       "    <tr>\n",
       "      <th>2</th>\n",
       "      <td>6800</td>\n",
       "      <td>31</td>\n",
       "      <td>0</td>\n",
       "      <td>5</td>\n",
       "      <td>0</td>\n",
       "      <td>180000.0</td>\n",
       "      <td>0</td>\n",
       "      <td>2</td>\n",
       "      <td>1</td>\n",
       "      <td>16.0</td>\n",
       "      <td>1</td>\n",
       "    </tr>\n",
       "    <tr>\n",
       "      <th>3</th>\n",
       "      <td>2500</td>\n",
       "      <td>31</td>\n",
       "      <td>2</td>\n",
       "      <td>5</td>\n",
       "      <td>2</td>\n",
       "      <td>47000.0</td>\n",
       "      <td>1</td>\n",
       "      <td>2</td>\n",
       "      <td>8</td>\n",
       "      <td>55.0</td>\n",
       "      <td>1</td>\n",
       "    </tr>\n",
       "    <tr>\n",
       "      <th>4</th>\n",
       "      <td>4000</td>\n",
       "      <td>19</td>\n",
       "      <td>2</td>\n",
       "      <td>5</td>\n",
       "      <td>2</td>\n",
       "      <td>281000.0</td>\n",
       "      <td>0</td>\n",
       "      <td>2</td>\n",
       "      <td>0</td>\n",
       "      <td>15.0</td>\n",
       "      <td>2</td>\n",
       "    </tr>\n",
       "  </tbody>\n",
       "</table>\n",
       "</div>"
      ],
      "text/plain": [
       "   price  manufacturer  condition  cylinders  fuel  odometer  transmission  \\\n",
       "0   9500             8          0          5     2   30376.0             0   \n",
       "1  18250            39          2          5     2  201300.0             1   \n",
       "2   6800            31          0          5     0  180000.0             0   \n",
       "3   2500            31          2          5     2   47000.0             1   \n",
       "4   4000            19          2          5     2  281000.0             0   \n",
       "\n",
       "   drive  type   age  car_size  \n",
       "0      1     5  18.0         2  \n",
       "1      0     6  13.0         1  \n",
       "2      2     1  16.0         1  \n",
       "3      2     8  55.0         1  \n",
       "4      2     0  15.0         2  "
      ]
     },
     "execution_count": 10,
     "metadata": {},
     "output_type": "execute_result"
    }
   ],
   "source": [
    "df.head()"
   ]
  },
  {
   "cell_type": "code",
   "execution_count": 11,
   "metadata": {},
   "outputs": [],
   "source": [
    "y = df['price']\n",
    "X = df.drop(columns='price')"
   ]
  },
  {
   "cell_type": "code",
   "execution_count": 12,
   "metadata": {},
   "outputs": [],
   "source": [
    "from sklearn.preprocessing import StandardScaler\n",
    "scaler = StandardScaler()\n",
    "X = scaler.fit_transform(X)"
   ]
  },
  {
   "cell_type": "code",
   "execution_count": 13,
   "metadata": {},
   "outputs": [],
   "source": [
    "from sklearn.model_selection import train_test_split\n",
    "X_train, X_test, y_train, y_test = train_test_split(X, y, test_size=0.20, random_state=42)"
   ]
  },
  {
   "cell_type": "markdown",
   "metadata": {},
   "source": [
    "### Compare the regression models"
   ]
  },
  {
   "cell_type": "markdown",
   "metadata": {},
   "source": [
    "I compare some regression algorithm to get the basic idea of the idea of how is the model behave on the default parameters on the algorithms. here I choose the top 3 algorithms"
   ]
  },
  {
   "cell_type": "code",
   "execution_count": 14,
   "metadata": {},
   "outputs": [],
   "source": [
    "def model_selection(X_train, y_train, X_test, y_test, models):\n",
    "    \n",
    "    from sklearn.metrics import max_error, mean_absolute_error, mean_squared_error, r2_score\n",
    "    \n",
    "    R2_result = []\n",
    "    MSE_result = []\n",
    "    str_models = []\n",
    "    \n",
    "    for model in models:\n",
    "        model.fit(X_train, y_train)\n",
    "        y_pred = model.predict(X_test)\n",
    "        MSE = mean_squared_error(y_test, y_pred)\n",
    "        R2 = r2_score(y_test, y_pred)       \n",
    "        R2_result.append(R2)\n",
    "        MSE_result.append(MSE)  \n",
    "        str_models.append(str(model))\n",
    "    \n",
    "    fig, (ax1, ax2) = plt.subplots(2, 1, figsize=(10,10))\n",
    "\n",
    "    ax1.plot(R2_result)\n",
    "    ax1.set_ylabel('R2_score')\n",
    "\n",
    "\n",
    "    ax2.plot(str_models,np.sqrt(MSE_result))\n",
    "    ax2.set_ylabel('RMSE_result')\n",
    "    ax2.set_xticklabels(str_models, rotation=90)\n",
    "    plt.tight_layout()\n",
    "    \n",
    "    return pd.DataFrame({'models':models, 'R2':R2_result, 'RMSE':np.sqrt(MSE_result)}) "
   ]
  },
  {
   "cell_type": "markdown",
   "metadata": {},
   "source": [
    "https://github.com/codebasics/py/blob/master/ML/15_gridsearch/15_grid_search.ipynb\n",
    "https://github.com/justmarkham/scikit-learn-videos/blob/master/08_grid_search.ipynb"
   ]
  },
  {
   "cell_type": "code",
   "execution_count": 15,
   "metadata": {},
   "outputs": [],
   "source": [
    "from sklearn.linear_model import LinearRegression\n",
    "from sklearn.linear_model import Ridge\n",
    "from sklearn.linear_model import Lasso\n",
    "from sklearn.linear_model import BayesianRidge\n",
    "from sklearn.svm import SVR\n",
    "from sklearn.neighbors import KNeighborsRegressor\n",
    "from sklearn.gaussian_process import GaussianProcessRegressor\n",
    "from sklearn.tree import DecisionTreeRegressor\n",
    "from sklearn.ensemble import BaggingRegressor\n",
    "from sklearn.ensemble import RandomForestRegressor\n",
    "from sklearn.ensemble import AdaBoostRegressor\n",
    "from sklearn.ensemble import GradientBoostingRegressor\n",
    "from sklearn.experimental import enable_hist_gradient_boosting\n",
    "from sklearn.ensemble import HistGradientBoostingRegressor\n",
    "from sklearn.neural_network import MLPRegressor\n",
    "from xgboost import XGBRegressor"
   ]
  },
  {
   "cell_type": "code",
   "execution_count": 16,
   "metadata": {},
   "outputs": [
    {
     "data": {
      "text/html": [
       "<div>\n",
       "<style scoped>\n",
       "    .dataframe tbody tr th:only-of-type {\n",
       "        vertical-align: middle;\n",
       "    }\n",
       "\n",
       "    .dataframe tbody tr th {\n",
       "        vertical-align: top;\n",
       "    }\n",
       "\n",
       "    .dataframe thead th {\n",
       "        text-align: right;\n",
       "    }\n",
       "</style>\n",
       "<table border=\"1\" class=\"dataframe\">\n",
       "  <thead>\n",
       "    <tr style=\"text-align: right;\">\n",
       "      <th></th>\n",
       "      <th>models</th>\n",
       "      <th>R2</th>\n",
       "      <th>RMSE</th>\n",
       "    </tr>\n",
       "  </thead>\n",
       "  <tbody>\n",
       "    <tr>\n",
       "      <th>0</th>\n",
       "      <td>LinearRegression()</td>\n",
       "      <td>0.204244</td>\n",
       "      <td>8008.263122</td>\n",
       "    </tr>\n",
       "    <tr>\n",
       "      <th>1</th>\n",
       "      <td>Ridge()</td>\n",
       "      <td>0.204246</td>\n",
       "      <td>8008.256016</td>\n",
       "    </tr>\n",
       "    <tr>\n",
       "      <th>2</th>\n",
       "      <td>Lasso()</td>\n",
       "      <td>0.204286</td>\n",
       "      <td>8008.052564</td>\n",
       "    </tr>\n",
       "    <tr>\n",
       "      <th>3</th>\n",
       "      <td>BayesianRidge()</td>\n",
       "      <td>0.204284</td>\n",
       "      <td>8008.062836</td>\n",
       "    </tr>\n",
       "    <tr>\n",
       "      <th>4</th>\n",
       "      <td>SVR()</td>\n",
       "      <td>0.001867</td>\n",
       "      <td>8968.972933</td>\n",
       "    </tr>\n",
       "    <tr>\n",
       "      <th>5</th>\n",
       "      <td>KNeighborsRegressor()</td>\n",
       "      <td>0.705696</td>\n",
       "      <td>4870.194552</td>\n",
       "    </tr>\n",
       "    <tr>\n",
       "      <th>6</th>\n",
       "      <td>DecisionTreeRegressor()</td>\n",
       "      <td>0.600082</td>\n",
       "      <td>5677.196159</td>\n",
       "    </tr>\n",
       "    <tr>\n",
       "      <th>7</th>\n",
       "      <td>(DecisionTreeRegressor(random_state=1799029495...</td>\n",
       "      <td>0.756304</td>\n",
       "      <td>4431.725541</td>\n",
       "    </tr>\n",
       "    <tr>\n",
       "      <th>8</th>\n",
       "      <td>(DecisionTreeRegressor(max_features='auto', ra...</td>\n",
       "      <td>0.776395</td>\n",
       "      <td>4245.115315</td>\n",
       "    </tr>\n",
       "    <tr>\n",
       "      <th>9</th>\n",
       "      <td>(DecisionTreeRegressor(max_depth=3, random_sta...</td>\n",
       "      <td>0.295927</td>\n",
       "      <td>7532.815526</td>\n",
       "    </tr>\n",
       "    <tr>\n",
       "      <th>10</th>\n",
       "      <td>([DecisionTreeRegressor(criterion='friedman_ms...</td>\n",
       "      <td>0.744459</td>\n",
       "      <td>4538.153285</td>\n",
       "    </tr>\n",
       "    <tr>\n",
       "      <th>11</th>\n",
       "      <td>HistGradientBoostingRegressor()</td>\n",
       "      <td>0.792479</td>\n",
       "      <td>4089.588290</td>\n",
       "    </tr>\n",
       "    <tr>\n",
       "      <th>12</th>\n",
       "      <td>MLPRegressor()</td>\n",
       "      <td>0.670161</td>\n",
       "      <td>5155.837210</td>\n",
       "    </tr>\n",
       "    <tr>\n",
       "      <th>13</th>\n",
       "      <td>XGBRegressor(base_score=0.5, booster='gbtree',...</td>\n",
       "      <td>0.799757</td>\n",
       "      <td>4017.235159</td>\n",
       "    </tr>\n",
       "  </tbody>\n",
       "</table>\n",
       "</div>"
      ],
      "text/plain": [
       "                                               models        R2         RMSE\n",
       "0                                  LinearRegression()  0.204244  8008.263122\n",
       "1                                             Ridge()  0.204246  8008.256016\n",
       "2                                             Lasso()  0.204286  8008.052564\n",
       "3                                     BayesianRidge()  0.204284  8008.062836\n",
       "4                                               SVR()  0.001867  8968.972933\n",
       "5                               KNeighborsRegressor()  0.705696  4870.194552\n",
       "6                             DecisionTreeRegressor()  0.600082  5677.196159\n",
       "7   (DecisionTreeRegressor(random_state=1799029495...  0.756304  4431.725541\n",
       "8   (DecisionTreeRegressor(max_features='auto', ra...  0.776395  4245.115315\n",
       "9   (DecisionTreeRegressor(max_depth=3, random_sta...  0.295927  7532.815526\n",
       "10  ([DecisionTreeRegressor(criterion='friedman_ms...  0.744459  4538.153285\n",
       "11                    HistGradientBoostingRegressor()  0.792479  4089.588290\n",
       "12                                     MLPRegressor()  0.670161  5155.837210\n",
       "13  XGBRegressor(base_score=0.5, booster='gbtree',...  0.799757  4017.235159"
      ]
     },
     "execution_count": 16,
     "metadata": {},
     "output_type": "execute_result"
    },
    {
     "data": {
      "image/png": "[encoded data removed]",
      "text/plain": [
       "<Figure size 720x720 with 2 Axes>"
      ]
     },
     "metadata": {
      "needs_background": "light"
     },
     "output_type": "display_data"
    }
   ],
   "source": [
    "models = [LinearRegression(), Ridge(), Lasso(), BayesianRidge(), SVR(), KNeighborsRegressor(),\n",
    "          DecisionTreeRegressor(), BaggingRegressor(), RandomForestRegressor(), AdaBoostRegressor(), GradientBoostingRegressor(),\n",
    "          HistGradientBoostingRegressor(), MLPRegressor(), XGBRegressor()]\n",
    "\n",
    "model_selection(X_train, y_train, X_test, y_test, models)   "
   ]
  },
  {
   "cell_type": "markdown",
   "metadata": {},
   "source": [
    "### Cross Validation for the best model in model comparasion"
   ]
  },
  {
   "cell_type": "code",
   "execution_count": 17,
   "metadata": {},
   "outputs": [],
   "source": [
    "def acc_CV(model, X, y):\n",
    "    from sklearn.model_selection import cross_val_score\n",
    "\n",
    "    accuracies = cross_val_score(estimator = model, X= X, y=y,  cv=10)\n",
    "    accuracies.mean()\n",
    "    accuracies.std()\n",
    "    print('akurasi  {:.2f}% +/- {:.2f}%' .format(accuracies.mean()*100, accuracies.std()*100))"
   ]
  },
  {
   "cell_type": "code",
   "execution_count": 18,
   "metadata": {},
   "outputs": [],
   "source": [
    "rf = RandomForestRegressor()\n",
    "HGB = HistGradientBoostingRegressor()\n",
    "XGB = XGBRegressor()"
   ]
  },
  {
   "cell_type": "code",
   "execution_count": 19,
   "metadata": {},
   "outputs": [
    {
     "name": "stdout",
     "output_type": "stream",
     "text": [
      "akurasi  77.28% +/- 1.11%\n"
     ]
    }
   ],
   "source": [
    "acc_CV(rf, X_train, y_train)"
   ]
  },
  {
   "cell_type": "code",
   "execution_count": 35,
   "metadata": {},
   "outputs": [
    {
     "name": "stdout",
     "output_type": "stream",
     "text": [
      "akurasi  79.11% +/- 1.04%\n"
     ]
    }
   ],
   "source": [
    "acc_CV(HGB, X_train, y_train)"
   ]
  },
  {
   "cell_type": "code",
   "execution_count": 33,
   "metadata": {},
   "outputs": [
    {
     "name": "stdout",
     "output_type": "stream",
     "text": [
      "akurasi  79.43% +/- 1.05%\n"
     ]
    }
   ],
   "source": [
    "acc_CV(XGB, X_train, y_train)"
   ]
  },
  {
   "cell_type": "markdown",
   "metadata": {},
   "source": [
    "## Random Forest model"
   ]
  },
  {
   "cell_type": "markdown",
   "metadata": {},
   "source": [
    "### Iterate the process"
   ]
  },
  {
   "cell_type": "markdown",
   "metadata": {},
   "source": [
    "Iterate the process of the designing the features of the data to get more accuracy in the model"
   ]
  },
  {
   "cell_type": "markdown",
   "metadata": {},
   "source": [
    "https://medium.com/purwadhikaconnect/metode-feature-importance-dalam-data-science-yang-perlu-kamu-ketahui-6b4f35db6476"
   ]
  },
  {
   "cell_type": "markdown",
   "metadata": {},
   "source": [
    "### Tuning using GridSearchCV per parameters"
   ]
  },
  {
   "cell_type": "code",
   "execution_count": 1,
   "metadata": {},
   "outputs": [],
   "source": [
    "def tuning_param(X, y, model, parameters):\n",
    "    \n",
    "    from sklearn.model_selection import GridSearchCV   \n",
    "        \n",
    "    scores = []\n",
    "   \n",
    "    fig, axs = plt.subplots(len(parameters))\n",
    "    k = 0   \n",
    "    for parameter in parameters:\n",
    "        \n",
    "        clf = GridSearchCV(estimator = model, param_grid = parameter, cv=3, scoring='r2', n_jobs=-1)\n",
    "        clf.fit(X, y)\n",
    "        \n",
    "\n",
    "        for name_param, val_param in parameter.items():\n",
    "            \n",
    "            grid_mean_scores = clf.cv_results_['mean_test_score']\n",
    "\n",
    "            if len(parameters) == 1:\n",
    "               axs.plot(val_param, grid_mean_scores)\n",
    "               axs.set_xlabel(name_param)\n",
    "               axs.set_ylabel('R2') \n",
    "            \n",
    "            else:\n",
    "                axs[k].plot(val_param, grid_mean_scores)\n",
    "                axs[k].set_xlabel(name_param)\n",
    "                axs[k].set_ylabel('R2')\n",
    "                \n",
    "                k+=1\n",
    "            \n",
    "            \n",
    "        scores.append({'parameter':name_param,\n",
    "                       'best_R2':clf.best_score_,\n",
    "                       'best_value':clf.best_params_})\n",
    "            \n",
    "    plt.tight_layout()       \n",
    "    return pd.DataFrame(scores, columns=['parameter', 'best_R2', 'best_value'])"
   ]
  },
  {
   "cell_type": "code",
   "execution_count": null,
   "metadata": {},
   "outputs": [],
   "source": [
    "parameters = [{'n_estimators': np.arange(100, 200, 10)}, {'max_features':['auto', 'sqrt']}, \n",
    "              {'max_depth':np.arange(10,250, 10)}, {'min_samples_split':np.arange(1, 5, 1)}, \n",
    "             {'min_samples_leaf':np.arange(1,5,1)}]\n",
    "tuning_param(X_train, y_train, rf, parameters)"
   ]
  },
  {
   "cell_type": "markdown",
   "metadata": {},
   "source": [
    "it can calculate in one time using those code above, but because computational reason here i am using one parameter for one code."
   ]
  },
  {
   "cell_type": "code",
   "execution_count": 24,
   "metadata": {},
   "outputs": [
    {
     "data": {
      "text/html": [
       "<div>\n",
       "<style scoped>\n",
       "    .dataframe tbody tr th:only-of-type {\n",
       "        vertical-align: middle;\n",
       "    }\n",
       "\n",
       "    .dataframe tbody tr th {\n",
       "        vertical-align: top;\n",
       "    }\n",
       "\n",
       "    .dataframe thead th {\n",
       "        text-align: right;\n",
       "    }\n",
       "</style>\n",
       "<table border=\"1\" class=\"dataframe\">\n",
       "  <thead>\n",
       "    <tr style=\"text-align: right;\">\n",
       "      <th></th>\n",
       "      <th>parameter</th>\n",
       "      <th>best_R2</th>\n",
       "      <th>best_value</th>\n",
       "    </tr>\n",
       "  </thead>\n",
       "  <tbody>\n",
       "    <tr>\n",
       "      <th>0</th>\n",
       "      <td>n_estimators</td>\n",
       "      <td>0.767367</td>\n",
       "      <td>{'n_estimators': 450}</td>\n",
       "    </tr>\n",
       "  </tbody>\n",
       "</table>\n",
       "</div>"
      ],
      "text/plain": [
       "      parameter   best_R2             best_value\n",
       "0  n_estimators  0.767367  {'n_estimators': 450}"
      ]
     },
     "execution_count": 24,
     "metadata": {},
     "output_type": "execute_result"
    },
    {
     "data": {
      "image/png": "[encoded data removed]",
      "text/plain": [
       "<Figure size 432x288 with 1 Axes>"
      ]
     },
     "metadata": {
      "needs_background": "light"
     },
     "output_type": "display_data"
    }
   ],
   "source": [
    "tuning_param(X_train, y_train, rf, [{'n_estimators': np.arange(100, 510, 10)}])"
   ]
  },
  {
   "cell_type": "code",
   "execution_count": 34,
   "metadata": {},
   "outputs": [
    {
     "data": {
      "text/html": [
       "<div>\n",
       "<style scoped>\n",
       "    .dataframe tbody tr th:only-of-type {\n",
       "        vertical-align: middle;\n",
       "    }\n",
       "\n",
       "    .dataframe tbody tr th {\n",
       "        vertical-align: top;\n",
       "    }\n",
       "\n",
       "    .dataframe thead th {\n",
       "        text-align: right;\n",
       "    }\n",
       "</style>\n",
       "<table border=\"1\" class=\"dataframe\">\n",
       "  <thead>\n",
       "    <tr style=\"text-align: right;\">\n",
       "      <th></th>\n",
       "      <th>parameter</th>\n",
       "      <th>best_R2</th>\n",
       "      <th>best_value</th>\n",
       "    </tr>\n",
       "  </thead>\n",
       "  <tbody>\n",
       "    <tr>\n",
       "      <th>0</th>\n",
       "      <td>n_estimators</td>\n",
       "      <td>0.767489</td>\n",
       "      <td>{'n_estimators': 740}</td>\n",
       "    </tr>\n",
       "  </tbody>\n",
       "</table>\n",
       "</div>"
      ],
      "text/plain": [
       "      parameter   best_R2             best_value\n",
       "0  n_estimators  0.767489  {'n_estimators': 740}"
      ]
     },
     "execution_count": 34,
     "metadata": {},
     "output_type": "execute_result"
    },
    {
     "data": {
      "image/png": "[encoded data removed]",
      "text/plain": [
       "<Figure size 432x288 with 1 Axes>"
      ]
     },
     "metadata": {
      "needs_background": "light"
     },
     "output_type": "display_data"
    }
   ],
   "source": [
    "tuning_param(X_train, y_train, rf, [{'n_estimators': np.arange(510, 1010, 10)}])"
   ]
  },
  {
   "cell_type": "code",
   "execution_count": 31,
   "metadata": {},
   "outputs": [
    {
     "data": {
      "text/html": [
       "<div>\n",
       "<style scoped>\n",
       "    .dataframe tbody tr th:only-of-type {\n",
       "        vertical-align: middle;\n",
       "    }\n",
       "\n",
       "    .dataframe tbody tr th {\n",
       "        vertical-align: top;\n",
       "    }\n",
       "\n",
       "    .dataframe thead th {\n",
       "        text-align: right;\n",
       "    }\n",
       "</style>\n",
       "<table border=\"1\" class=\"dataframe\">\n",
       "  <thead>\n",
       "    <tr style=\"text-align: right;\">\n",
       "      <th></th>\n",
       "      <th>parameter</th>\n",
       "      <th>best_R2</th>\n",
       "      <th>best_value</th>\n",
       "    </tr>\n",
       "  </thead>\n",
       "  <tbody>\n",
       "    <tr>\n",
       "      <th>0</th>\n",
       "      <td>min_samples_split</td>\n",
       "      <td>0.770455</td>\n",
       "      <td>{'min_samples_split': 11}</td>\n",
       "    </tr>\n",
       "  </tbody>\n",
       "</table>\n",
       "</div>"
      ],
      "text/plain": [
       "           parameter   best_R2                 best_value\n",
       "0  min_samples_split  0.770455  {'min_samples_split': 11}"
      ]
     },
     "execution_count": 31,
     "metadata": {},
     "output_type": "execute_result"
    },
    {
     "data": {
      "image/png": "[encoded data removed]",
      "text/plain": [
       "<Figure size 432x288 with 1 Axes>"
      ]
     },
     "metadata": {
      "needs_background": "light"
     },
     "output_type": "display_data"
    }
   ],
   "source": [
    "tuning_param(X_train, y_train, rf, [{'min_samples_split':np.arange(1, 25, 1)}])"
   ]
  },
  {
   "cell_type": "code",
   "execution_count": 32,
   "metadata": {},
   "outputs": [
    {
     "data": {
      "text/html": [
       "<div>\n",
       "<style scoped>\n",
       "    .dataframe tbody tr th:only-of-type {\n",
       "        vertical-align: middle;\n",
       "    }\n",
       "\n",
       "    .dataframe tbody tr th {\n",
       "        vertical-align: top;\n",
       "    }\n",
       "\n",
       "    .dataframe thead th {\n",
       "        text-align: right;\n",
       "    }\n",
       "</style>\n",
       "<table border=\"1\" class=\"dataframe\">\n",
       "  <thead>\n",
       "    <tr style=\"text-align: right;\">\n",
       "      <th></th>\n",
       "      <th>parameter</th>\n",
       "      <th>best_R2</th>\n",
       "      <th>best_value</th>\n",
       "    </tr>\n",
       "  </thead>\n",
       "  <tbody>\n",
       "    <tr>\n",
       "      <th>0</th>\n",
       "      <td>min_samples_leaf</td>\n",
       "      <td>0.767345</td>\n",
       "      <td>{'min_samples_leaf': 3}</td>\n",
       "    </tr>\n",
       "  </tbody>\n",
       "</table>\n",
       "</div>"
      ],
      "text/plain": [
       "          parameter   best_R2               best_value\n",
       "0  min_samples_leaf  0.767345  {'min_samples_leaf': 3}"
      ]
     },
     "execution_count": 32,
     "metadata": {},
     "output_type": "execute_result"
    },
    {
     "data": {
      "image/png": "[encoded data removed]",
      "text/plain": [
       "<Figure size 432x288 with 1 Axes>"
      ]
     },
     "metadata": {
      "needs_background": "light"
     },
     "output_type": "display_data"
    }
   ],
   "source": [
    "tuning_param(X_train, y_train, rf, [{'min_samples_leaf':np.arange(1, 10, 1)}])"
   ]
  },
  {
   "cell_type": "code",
   "execution_count": 33,
   "metadata": {
    "scrolled": true
   },
   "outputs": [
    {
     "data": {
      "text/html": [
       "<div>\n",
       "<style scoped>\n",
       "    .dataframe tbody tr th:only-of-type {\n",
       "        vertical-align: middle;\n",
       "    }\n",
       "\n",
       "    .dataframe tbody tr th {\n",
       "        vertical-align: top;\n",
       "    }\n",
       "\n",
       "    .dataframe thead th {\n",
       "        text-align: right;\n",
       "    }\n",
       "</style>\n",
       "<table border=\"1\" class=\"dataframe\">\n",
       "  <thead>\n",
       "    <tr style=\"text-align: right;\">\n",
       "      <th></th>\n",
       "      <th>parameter</th>\n",
       "      <th>best_R2</th>\n",
       "      <th>best_value</th>\n",
       "    </tr>\n",
       "  </thead>\n",
       "  <tbody>\n",
       "    <tr>\n",
       "      <th>0</th>\n",
       "      <td>max_depth</td>\n",
       "      <td>0.766404</td>\n",
       "      <td>{'max_depth': 170}</td>\n",
       "    </tr>\n",
       "  </tbody>\n",
       "</table>\n",
       "</div>"
      ],
      "text/plain": [
       "   parameter   best_R2          best_value\n",
       "0  max_depth  0.766404  {'max_depth': 170}"
      ]
     },
     "execution_count": 33,
     "metadata": {},
     "output_type": "execute_result"
    },
    {
     "data": {
      "image/png": "[encoded data removed]",
      "text/plain": [
       "<Figure size 432x288 with 1 Axes>"
      ]
     },
     "metadata": {
      "needs_background": "light"
     },
     "output_type": "display_data"
    }
   ],
   "source": [
    "tuning_param(X_train, y_train, rf, [{'max_depth':np.arange(10,250, 10)}])"
   ]
  },
  {
   "cell_type": "code",
   "execution_count": 11,
   "metadata": {},
   "outputs": [
    {
     "data": {
      "text/html": [
       "<div>\n",
       "<style scoped>\n",
       "    .dataframe tbody tr th:only-of-type {\n",
       "        vertical-align: middle;\n",
       "    }\n",
       "\n",
       "    .dataframe tbody tr th {\n",
       "        vertical-align: top;\n",
       "    }\n",
       "\n",
       "    .dataframe thead th {\n",
       "        text-align: right;\n",
       "    }\n",
       "</style>\n",
       "<table border=\"1\" class=\"dataframe\">\n",
       "  <thead>\n",
       "    <tr style=\"text-align: right;\">\n",
       "      <th></th>\n",
       "      <th>parameter</th>\n",
       "      <th>best_R2</th>\n",
       "      <th>best_value</th>\n",
       "    </tr>\n",
       "  </thead>\n",
       "  <tbody>\n",
       "    <tr>\n",
       "      <th>0</th>\n",
       "      <td>max_features</td>\n",
       "      <td>0.777653</td>\n",
       "      <td>{'max_features': 'sqrt'}</td>\n",
       "    </tr>\n",
       "  </tbody>\n",
       "</table>\n",
       "</div>"
      ],
      "text/plain": [
       "      parameter   best_R2                best_value\n",
       "0  max_features  0.777653  {'max_features': 'sqrt'}"
      ]
     },
     "execution_count": 11,
     "metadata": {},
     "output_type": "execute_result"
    },
    {
     "data": {
      "image/png": "[encoded data removed]",
      "text/plain": [
       "<Figure size 432x288 with 1 Axes>"
      ]
     },
     "metadata": {
      "needs_background": "light"
     },
     "output_type": "display_data"
    }
   ],
   "source": [
    "tuning_param(X_train, y_train, rf, [{'max_features':['auto', 'sqrt']}])"
   ]
  },
  {
   "cell_type": "markdown",
   "metadata": {},
   "source": [
    "From the tuning_param function we can see the effect of the parameters change to R2 performance and the parameters result can be the value range for the hyperparameter tuning using RandomizedsearchCV. "
   ]
  },
  {
   "cell_type": "markdown",
   "metadata": {},
   "source": [
    "### Hyperparameter using RandomizedsearchCV"
   ]
  },
  {
   "cell_type": "code",
   "execution_count": 9,
   "metadata": {},
   "outputs": [],
   "source": [
    "def model_randomCV(X, y, model, parameters):\n",
    "    \n",
    "    from sklearn.model_selection import RandomizedSearchCV\n",
    "    \n",
    "    randCV = RandomizedSearchCV(estimator=model, param_distributions=parameters, n_jobs=-1, cv=5)\n",
    "    \n",
    "    randCV.fit(X, y)\n",
    "   \n",
    "    print('best_parameters: ' + str(randCV.best_params_))\n",
    "    print('best_score: ' + str(randCV.best_score_))\n",
    "    print('best_estimator: ' + str(randCV.best_estimator_))    \n",
    "    \n",
    "    return pd.DataFrame(randCV.cv_results_).sort_values(by='rank_test_score')"
   ]
  },
  {
   "cell_type": "code",
   "execution_count": 17,
   "metadata": {},
   "outputs": [
    {
     "name": "stdout",
     "output_type": "stream",
     "text": [
      "best_parameters: {'n_estimators': 190, 'min_samples_split': 13, 'min_samples_leaf': 1, 'max_features': 'sqrt', 'max_depth': 190}\n",
      "best_score: 0.7815388659752746\n",
      "best_estimator: RandomForestRegressor(max_depth=190, max_features='sqrt', min_samples_split=13,\n",
      "                      n_estimators=190)\n"
     ]
    },
    {
     "data": {
      "text/html": [
       "<div>\n",
       "<style scoped>\n",
       "    .dataframe tbody tr th:only-of-type {\n",
       "        vertical-align: middle;\n",
       "    }\n",
       "\n",
       "    .dataframe tbody tr th {\n",
       "        vertical-align: top;\n",
       "    }\n",
       "\n",
       "    .dataframe thead th {\n",
       "        text-align: right;\n",
       "    }\n",
       "</style>\n",
       "<table border=\"1\" class=\"dataframe\">\n",
       "  <thead>\n",
       "    <tr style=\"text-align: right;\">\n",
       "      <th></th>\n",
       "      <th>mean_fit_time</th>\n",
       "      <th>std_fit_time</th>\n",
       "      <th>mean_score_time</th>\n",
       "      <th>std_score_time</th>\n",
       "      <th>param_n_estimators</th>\n",
       "      <th>param_min_samples_split</th>\n",
       "      <th>param_min_samples_leaf</th>\n",
       "      <th>param_max_features</th>\n",
       "      <th>param_max_depth</th>\n",
       "      <th>params</th>\n",
       "      <th>split0_test_score</th>\n",
       "      <th>split1_test_score</th>\n",
       "      <th>split2_test_score</th>\n",
       "      <th>split3_test_score</th>\n",
       "      <th>split4_test_score</th>\n",
       "      <th>mean_test_score</th>\n",
       "      <th>std_test_score</th>\n",
       "      <th>rank_test_score</th>\n",
       "    </tr>\n",
       "  </thead>\n",
       "  <tbody>\n",
       "    <tr>\n",
       "      <th>1</th>\n",
       "      <td>23.428801</td>\n",
       "      <td>0.494140</td>\n",
       "      <td>1.102002</td>\n",
       "      <td>0.059244</td>\n",
       "      <td>190</td>\n",
       "      <td>13</td>\n",
       "      <td>1</td>\n",
       "      <td>sqrt</td>\n",
       "      <td>190</td>\n",
       "      <td>{'n_estimators': 190, 'min_samples_split': 13,...</td>\n",
       "      <td>0.781238</td>\n",
       "      <td>0.791067</td>\n",
       "      <td>0.777767</td>\n",
       "      <td>0.772742</td>\n",
       "      <td>0.784880</td>\n",
       "      <td>0.781539</td>\n",
       "      <td>0.006223</td>\n",
       "      <td>1</td>\n",
       "    </tr>\n",
       "    <tr>\n",
       "      <th>4</th>\n",
       "      <td>18.548200</td>\n",
       "      <td>0.369261</td>\n",
       "      <td>0.863801</td>\n",
       "      <td>0.080457</td>\n",
       "      <td>150</td>\n",
       "      <td>10</td>\n",
       "      <td>2</td>\n",
       "      <td>sqrt</td>\n",
       "      <td>140</td>\n",
       "      <td>{'n_estimators': 150, 'min_samples_split': 10,...</td>\n",
       "      <td>0.779263</td>\n",
       "      <td>0.789218</td>\n",
       "      <td>0.773730</td>\n",
       "      <td>0.770166</td>\n",
       "      <td>0.782614</td>\n",
       "      <td>0.778999</td>\n",
       "      <td>0.006684</td>\n",
       "      <td>2</td>\n",
       "    </tr>\n",
       "    <tr>\n",
       "      <th>8</th>\n",
       "      <td>24.294000</td>\n",
       "      <td>0.162987</td>\n",
       "      <td>1.030401</td>\n",
       "      <td>0.024433</td>\n",
       "      <td>210</td>\n",
       "      <td>12</td>\n",
       "      <td>3</td>\n",
       "      <td>sqrt</td>\n",
       "      <td>200</td>\n",
       "      <td>{'n_estimators': 210, 'min_samples_split': 12,...</td>\n",
       "      <td>0.775296</td>\n",
       "      <td>0.786486</td>\n",
       "      <td>0.771299</td>\n",
       "      <td>0.767708</td>\n",
       "      <td>0.779601</td>\n",
       "      <td>0.776078</td>\n",
       "      <td>0.006546</td>\n",
       "      <td>3</td>\n",
       "    </tr>\n",
       "    <tr>\n",
       "      <th>0</th>\n",
       "      <td>62.529999</td>\n",
       "      <td>0.570965</td>\n",
       "      <td>1.178404</td>\n",
       "      <td>0.071815</td>\n",
       "      <td>190</td>\n",
       "      <td>9</td>\n",
       "      <td>1</td>\n",
       "      <td>auto</td>\n",
       "      <td>180</td>\n",
       "      <td>{'n_estimators': 190, 'min_samples_split': 9, ...</td>\n",
       "      <td>0.773905</td>\n",
       "      <td>0.785781</td>\n",
       "      <td>0.773835</td>\n",
       "      <td>0.765858</td>\n",
       "      <td>0.779732</td>\n",
       "      <td>0.775822</td>\n",
       "      <td>0.006654</td>\n",
       "      <td>4</td>\n",
       "    </tr>\n",
       "    <tr>\n",
       "      <th>5</th>\n",
       "      <td>20.619599</td>\n",
       "      <td>0.094696</td>\n",
       "      <td>0.880201</td>\n",
       "      <td>0.033415</td>\n",
       "      <td>180</td>\n",
       "      <td>13</td>\n",
       "      <td>3</td>\n",
       "      <td>sqrt</td>\n",
       "      <td>190</td>\n",
       "      <td>{'n_estimators': 180, 'min_samples_split': 13,...</td>\n",
       "      <td>0.774034</td>\n",
       "      <td>0.786106</td>\n",
       "      <td>0.770837</td>\n",
       "      <td>0.767349</td>\n",
       "      <td>0.779708</td>\n",
       "      <td>0.775607</td>\n",
       "      <td>0.006641</td>\n",
       "      <td>5</td>\n",
       "    </tr>\n",
       "    <tr>\n",
       "      <th>7</th>\n",
       "      <td>28.772801</td>\n",
       "      <td>0.164034</td>\n",
       "      <td>1.241003</td>\n",
       "      <td>0.018187</td>\n",
       "      <td>250</td>\n",
       "      <td>10</td>\n",
       "      <td>4</td>\n",
       "      <td>sqrt</td>\n",
       "      <td>140</td>\n",
       "      <td>{'n_estimators': 250, 'min_samples_split': 10,...</td>\n",
       "      <td>0.773570</td>\n",
       "      <td>0.784428</td>\n",
       "      <td>0.769221</td>\n",
       "      <td>0.765435</td>\n",
       "      <td>0.777214</td>\n",
       "      <td>0.773974</td>\n",
       "      <td>0.006564</td>\n",
       "      <td>6</td>\n",
       "    </tr>\n",
       "    <tr>\n",
       "      <th>6</th>\n",
       "      <td>58.896398</td>\n",
       "      <td>0.337390</td>\n",
       "      <td>1.057805</td>\n",
       "      <td>0.025547</td>\n",
       "      <td>190</td>\n",
       "      <td>8</td>\n",
       "      <td>4</td>\n",
       "      <td>auto</td>\n",
       "      <td>100</td>\n",
       "      <td>{'n_estimators': 190, 'min_samples_split': 8, ...</td>\n",
       "      <td>0.770839</td>\n",
       "      <td>0.782154</td>\n",
       "      <td>0.768106</td>\n",
       "      <td>0.760745</td>\n",
       "      <td>0.776598</td>\n",
       "      <td>0.771689</td>\n",
       "      <td>0.007307</td>\n",
       "      <td>7</td>\n",
       "    </tr>\n",
       "    <tr>\n",
       "      <th>9</th>\n",
       "      <td>74.100013</td>\n",
       "      <td>6.579778</td>\n",
       "      <td>1.270603</td>\n",
       "      <td>0.215764</td>\n",
       "      <td>250</td>\n",
       "      <td>9</td>\n",
       "      <td>4</td>\n",
       "      <td>auto</td>\n",
       "      <td>190</td>\n",
       "      <td>{'n_estimators': 250, 'min_samples_split': 9, ...</td>\n",
       "      <td>0.770267</td>\n",
       "      <td>0.782652</td>\n",
       "      <td>0.767723</td>\n",
       "      <td>0.760705</td>\n",
       "      <td>0.775699</td>\n",
       "      <td>0.771409</td>\n",
       "      <td>0.007406</td>\n",
       "      <td>8</td>\n",
       "    </tr>\n",
       "    <tr>\n",
       "      <th>2</th>\n",
       "      <td>44.589598</td>\n",
       "      <td>0.242269</td>\n",
       "      <td>0.760804</td>\n",
       "      <td>0.004832</td>\n",
       "      <td>150</td>\n",
       "      <td>9</td>\n",
       "      <td>5</td>\n",
       "      <td>auto</td>\n",
       "      <td>160</td>\n",
       "      <td>{'n_estimators': 150, 'min_samples_split': 9, ...</td>\n",
       "      <td>0.768447</td>\n",
       "      <td>0.780288</td>\n",
       "      <td>0.766362</td>\n",
       "      <td>0.759328</td>\n",
       "      <td>0.774844</td>\n",
       "      <td>0.769854</td>\n",
       "      <td>0.007194</td>\n",
       "      <td>9</td>\n",
       "    </tr>\n",
       "    <tr>\n",
       "      <th>3</th>\n",
       "      <td>56.840200</td>\n",
       "      <td>0.539129</td>\n",
       "      <td>0.980603</td>\n",
       "      <td>0.041285</td>\n",
       "      <td>190</td>\n",
       "      <td>11</td>\n",
       "      <td>5</td>\n",
       "      <td>auto</td>\n",
       "      <td>170</td>\n",
       "      <td>{'n_estimators': 190, 'min_samples_split': 11,...</td>\n",
       "      <td>0.768626</td>\n",
       "      <td>0.780577</td>\n",
       "      <td>0.766664</td>\n",
       "      <td>0.758980</td>\n",
       "      <td>0.774122</td>\n",
       "      <td>0.769794</td>\n",
       "      <td>0.007254</td>\n",
       "      <td>10</td>\n",
       "    </tr>\n",
       "  </tbody>\n",
       "</table>\n",
       "</div>"
      ],
      "text/plain": [
       "   mean_fit_time  std_fit_time  mean_score_time  std_score_time  \\\n",
       "1      23.428801      0.494140         1.102002        0.059244   \n",
       "4      18.548200      0.369261         0.863801        0.080457   \n",
       "8      24.294000      0.162987         1.030401        0.024433   \n",
       "0      62.529999      0.570965         1.178404        0.071815   \n",
       "5      20.619599      0.094696         0.880201        0.033415   \n",
       "7      28.772801      0.164034         1.241003        0.018187   \n",
       "6      58.896398      0.337390         1.057805        0.025547   \n",
       "9      74.100013      6.579778         1.270603        0.215764   \n",
       "2      44.589598      0.242269         0.760804        0.004832   \n",
       "3      56.840200      0.539129         0.980603        0.041285   \n",
       "\n",
       "  param_n_estimators param_min_samples_split param_min_samples_leaf  \\\n",
       "1                190                      13                      1   \n",
       "4                150                      10                      2   \n",
       "8                210                      12                      3   \n",
       "0                190                       9                      1   \n",
       "5                180                      13                      3   \n",
       "7                250                      10                      4   \n",
       "6                190                       8                      4   \n",
       "9                250                       9                      4   \n",
       "2                150                       9                      5   \n",
       "3                190                      11                      5   \n",
       "\n",
       "  param_max_features param_max_depth  \\\n",
       "1               sqrt             190   \n",
       "4               sqrt             140   \n",
       "8               sqrt             200   \n",
       "0               auto             180   \n",
       "5               sqrt             190   \n",
       "7               sqrt             140   \n",
       "6               auto             100   \n",
       "9               auto             190   \n",
       "2               auto             160   \n",
       "3               auto             170   \n",
       "\n",
       "                                              params  split0_test_score  \\\n",
       "1  {'n_estimators': 190, 'min_samples_split': 13,...           0.781238   \n",
       "4  {'n_estimators': 150, 'min_samples_split': 10,...           0.779263   \n",
       "8  {'n_estimators': 210, 'min_samples_split': 12,...           0.775296   \n",
       "0  {'n_estimators': 190, 'min_samples_split': 9, ...           0.773905   \n",
       "5  {'n_estimators': 180, 'min_samples_split': 13,...           0.774034   \n",
       "7  {'n_estimators': 250, 'min_samples_split': 10,...           0.773570   \n",
       "6  {'n_estimators': 190, 'min_samples_split': 8, ...           0.770839   \n",
       "9  {'n_estimators': 250, 'min_samples_split': 9, ...           0.770267   \n",
       "2  {'n_estimators': 150, 'min_samples_split': 9, ...           0.768447   \n",
       "3  {'n_estimators': 190, 'min_samples_split': 11,...           0.768626   \n",
       "\n",
       "   split1_test_score  split2_test_score  split3_test_score  split4_test_score  \\\n",
       "1           0.791067           0.777767           0.772742           0.784880   \n",
       "4           0.789218           0.773730           0.770166           0.782614   \n",
       "8           0.786486           0.771299           0.767708           0.779601   \n",
       "0           0.785781           0.773835           0.765858           0.779732   \n",
       "5           0.786106           0.770837           0.767349           0.779708   \n",
       "7           0.784428           0.769221           0.765435           0.777214   \n",
       "6           0.782154           0.768106           0.760745           0.776598   \n",
       "9           0.782652           0.767723           0.760705           0.775699   \n",
       "2           0.780288           0.766362           0.759328           0.774844   \n",
       "3           0.780577           0.766664           0.758980           0.774122   \n",
       "\n",
       "   mean_test_score  std_test_score  rank_test_score  \n",
       "1         0.781539        0.006223                1  \n",
       "4         0.778999        0.006684                2  \n",
       "8         0.776078        0.006546                3  \n",
       "0         0.775822        0.006654                4  \n",
       "5         0.775607        0.006641                5  \n",
       "7         0.773974        0.006564                6  \n",
       "6         0.771689        0.007307                7  \n",
       "9         0.771409        0.007406                8  \n",
       "2         0.769854        0.007194                9  \n",
       "3         0.769794        0.007254               10  "
      ]
     },
     "execution_count": 17,
     "metadata": {},
     "output_type": "execute_result"
    }
   ],
   "source": [
    "parameters = {'n_estimators': np.arange(150, 260, 10), 'max_features':['auto', 'sqrt'], 'max_depth':np.arange(100,210, 10), \n",
    "             'min_samples_split':np.arange(8, 15, 1), 'min_samples_leaf':np.arange(1,6,1)}\n",
    "\n",
    "model_randomCV(X_train, y_train, rf, parameters)"
   ]
  },
  {
   "cell_type": "markdown",
   "metadata": {},
   "source": [
    "the performance using hyperparameter tuning increase from 0.775 to 0.781, even its not big change but still its the performance progress. but before using it in the final model, we should check the underfitting and overfitting from model to get the confidence that the model is works for the unknown data / unseen samples "
   ]
  },
  {
   "cell_type": "markdown",
   "metadata": {},
   "source": [
    "### underfit and overfit check"
   ]
  },
  {
   "cell_type": "markdown",
   "metadata": {},
   "source": [
    "1. Overfitting is when the model’s error on the training set (i.e. during training) is very low but then, the model’s error on the test set (i.e. unseen samples) is large!\n",
    "\n",
    "2. Underfitting is when the model’s error on both the training and test sets (i.e. during training and testing) is very high.\n",
    "\n",
    "https://towardsdatascience.com/is-your-model-overfitting-or-maybe-underfitting-an-example-using-a-neural-network-in-python-4faf155398d2"
   ]
  },
  {
   "cell_type": "code",
   "execution_count": 25,
   "metadata": {},
   "outputs": [],
   "source": [
    "def fit_check(model, kfolds):\n",
    "    \n",
    "    from sklearn.model_selection import KFold\n",
    "    from sklearn.metrics import mean_squared_error\n",
    "    \n",
    "    kf = KFold(n_splits=kfolds)\n",
    "    list_training_error = []\n",
    "    list_testing_error = []\n",
    "    for train_index, test_index in kf.split(X):\n",
    "        X_train, X_test = X[train_index], X[test_index]\n",
    "        y_train, y_test = y[train_index], y[test_index]\n",
    "        model.fit(X_train, y_train)\n",
    "        y_train_data_pred = model.predict(X_train)\n",
    "        y_test_data_pred = model.predict(X_test)\n",
    "        fold_training_error = np.sqrt(mean_squared_error(y_train, y_train_data_pred)) \n",
    "        fold_testing_error = np.sqrt(mean_squared_error(y_test, y_test_data_pred))\n",
    "        list_training_error.append(fold_training_error)\n",
    "        list_testing_error.append(fold_testing_error)\n",
    "    \n",
    "    figsize=(5,5)\n",
    "    plt.plot(range(1, kf.get_n_splits() + 1), np.array(list_training_error).ravel(), 'o-', label = 'training')\n",
    "    plt.plot(range(1, kf.get_n_splits() + 1), np.array(list_testing_error).ravel(), 'o-', label = 'testing')\n",
    "    plt.xlabel('number of fold')\n",
    "    plt.ylabel('RMSE')\n",
    "    plt.title('RMSE across folds')\n",
    "    plt.legend()\n",
    "    plt.tight_layout()\n",
    "    plt.show()"
   ]
  },
  {
   "cell_type": "code",
   "execution_count": 26,
   "metadata": {
    "scrolled": true
   },
   "outputs": [
    {
     "data": {
      "image/png": "[encoded data removed]",
      "text/plain": [
       "<Figure size 432x288 with 1 Axes>"
      ]
     },
     "metadata": {
      "needs_background": "light"
     },
     "output_type": "display_data"
    }
   ],
   "source": [
    "rf_best = RandomForestRegressor(max_depth=190, max_features='sqrt', min_samples_split=13, n_estimators=190)\n",
    "\n",
    "fit_check(rf_best, 5)"
   ]
  },
  {
   "cell_type": "code",
   "execution_count": 27,
   "metadata": {},
   "outputs": [
    {
     "data": {
      "image/png": "[encoded data removed]",
      "text/plain": [
       "<Figure size 432x288 with 1 Axes>"
      ]
     },
     "metadata": {
      "needs_background": "light"
     },
     "output_type": "display_data"
    }
   ],
   "source": [
    "fit_check(rf, 5)"
   ]
  },
  {
   "cell_type": "markdown",
   "metadata": {},
   "source": [
    "Based on the underfitting and overfitting result, we can see the Random Forest with Hyperparameter tuning perform better from Random Forest default with the better R2 also. but the error difference still high which is 1000 for the price. so we should check another model to get the comparison."
   ]
  },
  {
   "cell_type": "markdown",
   "metadata": {},
   "source": [
    "## HGB model"
   ]
  },
  {
   "cell_type": "markdown",
   "metadata": {},
   "source": [
    "### overfitting and underfitting check"
   ]
  },
  {
   "cell_type": "code",
   "execution_count": 57,
   "metadata": {
    "scrolled": true
   },
   "outputs": [
    {
     "data": {
      "image/png": "[encoded data removed]",
      "text/plain": [
       "<Figure size 432x288 with 1 Axes>"
      ]
     },
     "metadata": {
      "needs_background": "light"
     },
     "output_type": "display_data"
    }
   ],
   "source": [
    "fit_check(HGB, 5)"
   ]
  },
  {
   "cell_type": "markdown",
   "metadata": {},
   "source": [
    "### Tuning parameters"
   ]
  },
  {
   "cell_type": "code",
   "execution_count": 61,
   "metadata": {},
   "outputs": [
    {
     "data": {
      "text/html": [
       "<div>\n",
       "<style scoped>\n",
       "    .dataframe tbody tr th:only-of-type {\n",
       "        vertical-align: middle;\n",
       "    }\n",
       "\n",
       "    .dataframe tbody tr th {\n",
       "        vertical-align: top;\n",
       "    }\n",
       "\n",
       "    .dataframe thead th {\n",
       "        text-align: right;\n",
       "    }\n",
       "</style>\n",
       "<table border=\"1\" class=\"dataframe\">\n",
       "  <thead>\n",
       "    <tr style=\"text-align: right;\">\n",
       "      <th></th>\n",
       "      <th>parameter</th>\n",
       "      <th>best_R2</th>\n",
       "      <th>best_value</th>\n",
       "    </tr>\n",
       "  </thead>\n",
       "  <tbody>\n",
       "    <tr>\n",
       "      <th>0</th>\n",
       "      <td>learning_rate</td>\n",
       "      <td>0.793036</td>\n",
       "      <td>{'learning_rate': 0.2}</td>\n",
       "    </tr>\n",
       "  </tbody>\n",
       "</table>\n",
       "</div>"
      ],
      "text/plain": [
       "       parameter   best_R2              best_value\n",
       "0  learning_rate  0.793036  {'learning_rate': 0.2}"
      ]
     },
     "execution_count": 61,
     "metadata": {},
     "output_type": "execute_result"
    },
    {
     "data": {
      "image/png": "[encoded data removed]",
      "text/plain": [
       "<Figure size 432x288 with 1 Axes>"
      ]
     },
     "metadata": {
      "needs_background": "light"
     },
     "output_type": "display_data"
    }
   ],
   "source": [
    "tuning_param(X_train, y_train, HGB, [{'learning_rate':np.arange(0.1, 1, 0.1)}])"
   ]
  },
  {
   "cell_type": "code",
   "execution_count": 65,
   "metadata": {},
   "outputs": [
    {
     "data": {
      "text/html": [
       "<div>\n",
       "<style scoped>\n",
       "    .dataframe tbody tr th:only-of-type {\n",
       "        vertical-align: middle;\n",
       "    }\n",
       "\n",
       "    .dataframe tbody tr th {\n",
       "        vertical-align: top;\n",
       "    }\n",
       "\n",
       "    .dataframe thead th {\n",
       "        text-align: right;\n",
       "    }\n",
       "</style>\n",
       "<table border=\"1\" class=\"dataframe\">\n",
       "  <thead>\n",
       "    <tr style=\"text-align: right;\">\n",
       "      <th></th>\n",
       "      <th>parameter</th>\n",
       "      <th>best_R2</th>\n",
       "      <th>best_value</th>\n",
       "    </tr>\n",
       "  </thead>\n",
       "  <tbody>\n",
       "    <tr>\n",
       "      <th>0</th>\n",
       "      <td>max_leaf_nodes</td>\n",
       "      <td>0.798185</td>\n",
       "      <td>{'max_leaf_nodes': 109}</td>\n",
       "    </tr>\n",
       "  </tbody>\n",
       "</table>\n",
       "</div>"
      ],
      "text/plain": [
       "        parameter   best_R2               best_value\n",
       "0  max_leaf_nodes  0.798185  {'max_leaf_nodes': 109}"
      ]
     },
     "execution_count": 65,
     "metadata": {},
     "output_type": "execute_result"
    },
    {
     "data": {
      "image/png": "[encoded data removed]",
      "text/plain": [
       "<Figure size 432x288 with 1 Axes>"
      ]
     },
     "metadata": {
      "needs_background": "light"
     },
     "output_type": "display_data"
    }
   ],
   "source": [
    "tuning_param(X_train, y_train, HGB, [{'max_leaf_nodes':np.arange(50, 150, 1)}])"
   ]
  },
  {
   "cell_type": "code",
   "execution_count": 18,
   "metadata": {},
   "outputs": [
    {
     "data": {
      "text/html": [
       "<div>\n",
       "<style scoped>\n",
       "    .dataframe tbody tr th:only-of-type {\n",
       "        vertical-align: middle;\n",
       "    }\n",
       "\n",
       "    .dataframe tbody tr th {\n",
       "        vertical-align: top;\n",
       "    }\n",
       "\n",
       "    .dataframe thead th {\n",
       "        text-align: right;\n",
       "    }\n",
       "</style>\n",
       "<table border=\"1\" class=\"dataframe\">\n",
       "  <thead>\n",
       "    <tr style=\"text-align: right;\">\n",
       "      <th></th>\n",
       "      <th>parameter</th>\n",
       "      <th>best_R2</th>\n",
       "      <th>best_value</th>\n",
       "    </tr>\n",
       "  </thead>\n",
       "  <tbody>\n",
       "    <tr>\n",
       "      <th>0</th>\n",
       "      <td>max_iter</td>\n",
       "      <td>0.798284</td>\n",
       "      <td>{'max_iter': 530}</td>\n",
       "    </tr>\n",
       "  </tbody>\n",
       "</table>\n",
       "</div>"
      ],
      "text/plain": [
       "  parameter   best_R2         best_value\n",
       "0  max_iter  0.798284  {'max_iter': 530}"
      ]
     },
     "execution_count": 18,
     "metadata": {},
     "output_type": "execute_result"
    },
    {
     "data": {
      "image/png": "[encoded data removed]",
      "text/plain": [
       "<Figure size 432x288 with 1 Axes>"
      ]
     },
     "metadata": {
      "needs_background": "light"
     },
     "output_type": "display_data"
    }
   ],
   "source": [
    "tuning_param(X_train, y_train, HGB, [{'max_iter': np.arange(100, 600, 10)}])"
   ]
  },
  {
   "cell_type": "code",
   "execution_count": 13,
   "metadata": {},
   "outputs": [
    {
     "data": {
      "text/html": [
       "<div>\n",
       "<style scoped>\n",
       "    .dataframe tbody tr th:only-of-type {\n",
       "        vertical-align: middle;\n",
       "    }\n",
       "\n",
       "    .dataframe tbody tr th {\n",
       "        vertical-align: top;\n",
       "    }\n",
       "\n",
       "    .dataframe thead th {\n",
       "        text-align: right;\n",
       "    }\n",
       "</style>\n",
       "<table border=\"1\" class=\"dataframe\">\n",
       "  <thead>\n",
       "    <tr style=\"text-align: right;\">\n",
       "      <th></th>\n",
       "      <th>parameter</th>\n",
       "      <th>best_R2</th>\n",
       "      <th>best_value</th>\n",
       "    </tr>\n",
       "  </thead>\n",
       "  <tbody>\n",
       "    <tr>\n",
       "      <th>0</th>\n",
       "      <td>max_depth</td>\n",
       "      <td>0.790495</td>\n",
       "      <td>{'max_depth': 100}</td>\n",
       "    </tr>\n",
       "  </tbody>\n",
       "</table>\n",
       "</div>"
      ],
      "text/plain": [
       "   parameter   best_R2          best_value\n",
       "0  max_depth  0.790495  {'max_depth': 100}"
      ]
     },
     "execution_count": 13,
     "metadata": {},
     "output_type": "execute_result"
    },
    {
     "data": {
      "image/png": "[encoded data removed]",
      "text/plain": [
       "<Figure size 432x288 with 1 Axes>"
      ]
     },
     "metadata": {
      "needs_background": "light"
     },
     "output_type": "display_data"
    }
   ],
   "source": [
    "tuning_param(X_train, y_train, HGB, [{'max_depth': np.arange(0, 500, 10)}])"
   ]
  },
  {
   "cell_type": "code",
   "execution_count": 15,
   "metadata": {},
   "outputs": [
    {
     "data": {
      "text/html": [
       "<div>\n",
       "<style scoped>\n",
       "    .dataframe tbody tr th:only-of-type {\n",
       "        vertical-align: middle;\n",
       "    }\n",
       "\n",
       "    .dataframe tbody tr th {\n",
       "        vertical-align: top;\n",
       "    }\n",
       "\n",
       "    .dataframe thead th {\n",
       "        text-align: right;\n",
       "    }\n",
       "</style>\n",
       "<table border=\"1\" class=\"dataframe\">\n",
       "  <thead>\n",
       "    <tr style=\"text-align: right;\">\n",
       "      <th></th>\n",
       "      <th>parameter</th>\n",
       "      <th>best_R2</th>\n",
       "      <th>best_value</th>\n",
       "    </tr>\n",
       "  </thead>\n",
       "  <tbody>\n",
       "    <tr>\n",
       "      <th>0</th>\n",
       "      <td>min_samples_leaf</td>\n",
       "      <td>0.789906</td>\n",
       "      <td>{'min_samples_leaf': 30}</td>\n",
       "    </tr>\n",
       "  </tbody>\n",
       "</table>\n",
       "</div>"
      ],
      "text/plain": [
       "          parameter   best_R2                best_value\n",
       "0  min_samples_leaf  0.789906  {'min_samples_leaf': 30}"
      ]
     },
     "execution_count": 15,
     "metadata": {},
     "output_type": "execute_result"
    },
    {
     "data": {
      "image/png": "[encoded data removed]",
      "text/plain": [
       "<Figure size 432x288 with 1 Axes>"
      ]
     },
     "metadata": {
      "needs_background": "light"
     },
     "output_type": "display_data"
    }
   ],
   "source": [
    "tuning_param(X_train, y_train, HGB, [{'min_samples_leaf': np.arange(0, 500, 10)}])"
   ]
  },
  {
   "cell_type": "code",
   "execution_count": 19,
   "metadata": {},
   "outputs": [
    {
     "data": {
      "text/html": [
       "<div>\n",
       "<style scoped>\n",
       "    .dataframe tbody tr th:only-of-type {\n",
       "        vertical-align: middle;\n",
       "    }\n",
       "\n",
       "    .dataframe tbody tr th {\n",
       "        vertical-align: top;\n",
       "    }\n",
       "\n",
       "    .dataframe thead th {\n",
       "        text-align: right;\n",
       "    }\n",
       "</style>\n",
       "<table border=\"1\" class=\"dataframe\">\n",
       "  <thead>\n",
       "    <tr style=\"text-align: right;\">\n",
       "      <th></th>\n",
       "      <th>parameter</th>\n",
       "      <th>best_R2</th>\n",
       "      <th>best_value</th>\n",
       "    </tr>\n",
       "  </thead>\n",
       "  <tbody>\n",
       "    <tr>\n",
       "      <th>0</th>\n",
       "      <td>l2_regularization</td>\n",
       "      <td>0.78871</td>\n",
       "      <td>{'l2_regularization': 0}</td>\n",
       "    </tr>\n",
       "  </tbody>\n",
       "</table>\n",
       "</div>"
      ],
      "text/plain": [
       "           parameter  best_R2                best_value\n",
       "0  l2_regularization  0.78871  {'l2_regularization': 0}"
      ]
     },
     "execution_count": 19,
     "metadata": {},
     "output_type": "execute_result"
    },
    {
     "data": {
      "image/png": "[encoded data removed]",
      "text/plain": [
       "<Figure size 432x288 with 1 Axes>"
      ]
     },
     "metadata": {
      "needs_background": "light"
     },
     "output_type": "display_data"
    }
   ],
   "source": [
    "tuning_param(X_train, y_train, HGB, [{'l2_regularization': np.arange(0, 100, 10)}])"
   ]
  },
  {
   "cell_type": "markdown",
   "metadata": {},
   "source": [
    "### Hyperparameter using RandomizedsearchCV "
   ]
  },
  {
   "cell_type": "code",
   "execution_count": 11,
   "metadata": {},
   "outputs": [
    {
     "name": "stdout",
     "output_type": "stream",
     "text": [
      "best_parameters: {'min_samples_leaf': 40, 'max_leaf_nodes': 120, 'max_iter': 300, 'max_depth': 140, 'learning_rate': 0.1}\n",
      "best_score: 0.8003662621122644\n",
      "best_estimator: HistGradientBoostingRegressor(max_depth=140, max_iter=300, max_leaf_nodes=120,\n",
      "                              min_samples_leaf=40)\n"
     ]
    },
    {
     "data": {
      "text/html": [
       "<div>\n",
       "<style scoped>\n",
       "    .dataframe tbody tr th:only-of-type {\n",
       "        vertical-align: middle;\n",
       "    }\n",
       "\n",
       "    .dataframe tbody tr th {\n",
       "        vertical-align: top;\n",
       "    }\n",
       "\n",
       "    .dataframe thead th {\n",
       "        text-align: right;\n",
       "    }\n",
       "</style>\n",
       "<table border=\"1\" class=\"dataframe\">\n",
       "  <thead>\n",
       "    <tr style=\"text-align: right;\">\n",
       "      <th></th>\n",
       "      <th>mean_fit_time</th>\n",
       "      <th>std_fit_time</th>\n",
       "      <th>mean_score_time</th>\n",
       "      <th>std_score_time</th>\n",
       "      <th>param_min_samples_leaf</th>\n",
       "      <th>param_max_leaf_nodes</th>\n",
       "      <th>param_max_iter</th>\n",
       "      <th>param_max_depth</th>\n",
       "      <th>param_learning_rate</th>\n",
       "      <th>params</th>\n",
       "      <th>split0_test_score</th>\n",
       "      <th>split1_test_score</th>\n",
       "      <th>split2_test_score</th>\n",
       "      <th>split3_test_score</th>\n",
       "      <th>split4_test_score</th>\n",
       "      <th>mean_test_score</th>\n",
       "      <th>std_test_score</th>\n",
       "      <th>rank_test_score</th>\n",
       "    </tr>\n",
       "  </thead>\n",
       "  <tbody>\n",
       "    <tr>\n",
       "      <th>9</th>\n",
       "      <td>18.409601</td>\n",
       "      <td>2.732962</td>\n",
       "      <td>0.571400</td>\n",
       "      <td>0.103879</td>\n",
       "      <td>40</td>\n",
       "      <td>120</td>\n",
       "      <td>300</td>\n",
       "      <td>140</td>\n",
       "      <td>0.1</td>\n",
       "      <td>{'min_samples_leaf': 40, 'max_leaf_nodes': 120...</td>\n",
       "      <td>0.806356</td>\n",
       "      <td>0.807813</td>\n",
       "      <td>0.795728</td>\n",
       "      <td>0.789813</td>\n",
       "      <td>0.802122</td>\n",
       "      <td>0.800366</td>\n",
       "      <td>0.006743</td>\n",
       "      <td>1</td>\n",
       "    </tr>\n",
       "    <tr>\n",
       "      <th>1</th>\n",
       "      <td>26.327087</td>\n",
       "      <td>1.756297</td>\n",
       "      <td>0.710400</td>\n",
       "      <td>0.291530</td>\n",
       "      <td>20</td>\n",
       "      <td>130</td>\n",
       "      <td>350</td>\n",
       "      <td>110</td>\n",
       "      <td>0.1</td>\n",
       "      <td>{'min_samples_leaf': 20, 'max_leaf_nodes': 130...</td>\n",
       "      <td>0.804581</td>\n",
       "      <td>0.807409</td>\n",
       "      <td>0.795607</td>\n",
       "      <td>0.790638</td>\n",
       "      <td>0.801048</td>\n",
       "      <td>0.799856</td>\n",
       "      <td>0.006063</td>\n",
       "      <td>2</td>\n",
       "    </tr>\n",
       "    <tr>\n",
       "      <th>3</th>\n",
       "      <td>11.929198</td>\n",
       "      <td>2.292821</td>\n",
       "      <td>0.382402</td>\n",
       "      <td>0.086250</td>\n",
       "      <td>20</td>\n",
       "      <td>140</td>\n",
       "      <td>330</td>\n",
       "      <td>50</td>\n",
       "      <td>0.2</td>\n",
       "      <td>{'min_samples_leaf': 20, 'max_leaf_nodes': 140...</td>\n",
       "      <td>0.801900</td>\n",
       "      <td>0.803606</td>\n",
       "      <td>0.793447</td>\n",
       "      <td>0.786799</td>\n",
       "      <td>0.799338</td>\n",
       "      <td>0.797018</td>\n",
       "      <td>0.006161</td>\n",
       "      <td>3</td>\n",
       "    </tr>\n",
       "    <tr>\n",
       "      <th>7</th>\n",
       "      <td>14.884601</td>\n",
       "      <td>1.897614</td>\n",
       "      <td>0.461601</td>\n",
       "      <td>0.070398</td>\n",
       "      <td>40</td>\n",
       "      <td>140</td>\n",
       "      <td>250</td>\n",
       "      <td>90</td>\n",
       "      <td>0.2</td>\n",
       "      <td>{'min_samples_leaf': 40, 'max_leaf_nodes': 140...</td>\n",
       "      <td>0.800931</td>\n",
       "      <td>0.801273</td>\n",
       "      <td>0.790690</td>\n",
       "      <td>0.786669</td>\n",
       "      <td>0.798757</td>\n",
       "      <td>0.795664</td>\n",
       "      <td>0.005906</td>\n",
       "      <td>4</td>\n",
       "    </tr>\n",
       "    <tr>\n",
       "      <th>8</th>\n",
       "      <td>9.780000</td>\n",
       "      <td>1.676749</td>\n",
       "      <td>0.320802</td>\n",
       "      <td>0.018301</td>\n",
       "      <td>20</td>\n",
       "      <td>140</td>\n",
       "      <td>330</td>\n",
       "      <td>90</td>\n",
       "      <td>0.3</td>\n",
       "      <td>{'min_samples_leaf': 20, 'max_leaf_nodes': 140...</td>\n",
       "      <td>0.798639</td>\n",
       "      <td>0.800680</td>\n",
       "      <td>0.789697</td>\n",
       "      <td>0.780965</td>\n",
       "      <td>0.793607</td>\n",
       "      <td>0.792718</td>\n",
       "      <td>0.007022</td>\n",
       "      <td>5</td>\n",
       "    </tr>\n",
       "    <tr>\n",
       "      <th>6</th>\n",
       "      <td>7.885001</td>\n",
       "      <td>2.381248</td>\n",
       "      <td>0.259600</td>\n",
       "      <td>0.064797</td>\n",
       "      <td>30</td>\n",
       "      <td>100</td>\n",
       "      <td>260</td>\n",
       "      <td>80</td>\n",
       "      <td>0.4</td>\n",
       "      <td>{'min_samples_leaf': 30, 'max_leaf_nodes': 100...</td>\n",
       "      <td>0.792594</td>\n",
       "      <td>0.793698</td>\n",
       "      <td>0.783236</td>\n",
       "      <td>0.777834</td>\n",
       "      <td>0.793292</td>\n",
       "      <td>0.788131</td>\n",
       "      <td>0.006443</td>\n",
       "      <td>6</td>\n",
       "    </tr>\n",
       "    <tr>\n",
       "      <th>5</th>\n",
       "      <td>8.101402</td>\n",
       "      <td>1.469065</td>\n",
       "      <td>0.201000</td>\n",
       "      <td>0.096691</td>\n",
       "      <td>20</td>\n",
       "      <td>140</td>\n",
       "      <td>280</td>\n",
       "      <td>60</td>\n",
       "      <td>0.4</td>\n",
       "      <td>{'min_samples_leaf': 20, 'max_leaf_nodes': 140...</td>\n",
       "      <td>0.793278</td>\n",
       "      <td>0.790911</td>\n",
       "      <td>0.784828</td>\n",
       "      <td>0.779813</td>\n",
       "      <td>0.788961</td>\n",
       "      <td>0.787558</td>\n",
       "      <td>0.004762</td>\n",
       "      <td>7</td>\n",
       "    </tr>\n",
       "    <tr>\n",
       "      <th>0</th>\n",
       "      <td>0.153202</td>\n",
       "      <td>0.012480</td>\n",
       "      <td>0.000000</td>\n",
       "      <td>0.000000</td>\n",
       "      <td>0</td>\n",
       "      <td>100</td>\n",
       "      <td>260</td>\n",
       "      <td>50</td>\n",
       "      <td>0.3</td>\n",
       "      <td>{'min_samples_leaf': 0, 'max_leaf_nodes': 100,...</td>\n",
       "      <td>NaN</td>\n",
       "      <td>NaN</td>\n",
       "      <td>NaN</td>\n",
       "      <td>NaN</td>\n",
       "      <td>NaN</td>\n",
       "      <td>NaN</td>\n",
       "      <td>NaN</td>\n",
       "      <td>8</td>\n",
       "    </tr>\n",
       "    <tr>\n",
       "      <th>2</th>\n",
       "      <td>0.199402</td>\n",
       "      <td>0.035412</td>\n",
       "      <td>0.000000</td>\n",
       "      <td>0.000000</td>\n",
       "      <td>0</td>\n",
       "      <td>120</td>\n",
       "      <td>240</td>\n",
       "      <td>100</td>\n",
       "      <td>0.3</td>\n",
       "      <td>{'min_samples_leaf': 0, 'max_leaf_nodes': 120,...</td>\n",
       "      <td>NaN</td>\n",
       "      <td>NaN</td>\n",
       "      <td>NaN</td>\n",
       "      <td>NaN</td>\n",
       "      <td>NaN</td>\n",
       "      <td>NaN</td>\n",
       "      <td>NaN</td>\n",
       "      <td>9</td>\n",
       "    </tr>\n",
       "    <tr>\n",
       "      <th>4</th>\n",
       "      <td>0.195003</td>\n",
       "      <td>0.021422</td>\n",
       "      <td>0.000000</td>\n",
       "      <td>0.000000</td>\n",
       "      <td>0</td>\n",
       "      <td>130</td>\n",
       "      <td>270</td>\n",
       "      <td>120</td>\n",
       "      <td>0.1</td>\n",
       "      <td>{'min_samples_leaf': 0, 'max_leaf_nodes': 130,...</td>\n",
       "      <td>NaN</td>\n",
       "      <td>NaN</td>\n",
       "      <td>NaN</td>\n",
       "      <td>NaN</td>\n",
       "      <td>NaN</td>\n",
       "      <td>NaN</td>\n",
       "      <td>NaN</td>\n",
       "      <td>10</td>\n",
       "    </tr>\n",
       "  </tbody>\n",
       "</table>\n",
       "</div>"
      ],
      "text/plain": [
       "   mean_fit_time  std_fit_time  mean_score_time  std_score_time  \\\n",
       "9      18.409601      2.732962         0.571400        0.103879   \n",
       "1      26.327087      1.756297         0.710400        0.291530   \n",
       "3      11.929198      2.292821         0.382402        0.086250   \n",
       "7      14.884601      1.897614         0.461601        0.070398   \n",
       "8       9.780000      1.676749         0.320802        0.018301   \n",
       "6       7.885001      2.381248         0.259600        0.064797   \n",
       "5       8.101402      1.469065         0.201000        0.096691   \n",
       "0       0.153202      0.012480         0.000000        0.000000   \n",
       "2       0.199402      0.035412         0.000000        0.000000   \n",
       "4       0.195003      0.021422         0.000000        0.000000   \n",
       "\n",
       "  param_min_samples_leaf param_max_leaf_nodes param_max_iter param_max_depth  \\\n",
       "9                     40                  120            300             140   \n",
       "1                     20                  130            350             110   \n",
       "3                     20                  140            330              50   \n",
       "7                     40                  140            250              90   \n",
       "8                     20                  140            330              90   \n",
       "6                     30                  100            260              80   \n",
       "5                     20                  140            280              60   \n",
       "0                      0                  100            260              50   \n",
       "2                      0                  120            240             100   \n",
       "4                      0                  130            270             120   \n",
       "\n",
       "  param_learning_rate                                             params  \\\n",
       "9                 0.1  {'min_samples_leaf': 40, 'max_leaf_nodes': 120...   \n",
       "1                 0.1  {'min_samples_leaf': 20, 'max_leaf_nodes': 130...   \n",
       "3                 0.2  {'min_samples_leaf': 20, 'max_leaf_nodes': 140...   \n",
       "7                 0.2  {'min_samples_leaf': 40, 'max_leaf_nodes': 140...   \n",
       "8                 0.3  {'min_samples_leaf': 20, 'max_leaf_nodes': 140...   \n",
       "6                 0.4  {'min_samples_leaf': 30, 'max_leaf_nodes': 100...   \n",
       "5                 0.4  {'min_samples_leaf': 20, 'max_leaf_nodes': 140...   \n",
       "0                 0.3  {'min_samples_leaf': 0, 'max_leaf_nodes': 100,...   \n",
       "2                 0.3  {'min_samples_leaf': 0, 'max_leaf_nodes': 120,...   \n",
       "4                 0.1  {'min_samples_leaf': 0, 'max_leaf_nodes': 130,...   \n",
       "\n",
       "   split0_test_score  split1_test_score  split2_test_score  split3_test_score  \\\n",
       "9           0.806356           0.807813           0.795728           0.789813   \n",
       "1           0.804581           0.807409           0.795607           0.790638   \n",
       "3           0.801900           0.803606           0.793447           0.786799   \n",
       "7           0.800931           0.801273           0.790690           0.786669   \n",
       "8           0.798639           0.800680           0.789697           0.780965   \n",
       "6           0.792594           0.793698           0.783236           0.777834   \n",
       "5           0.793278           0.790911           0.784828           0.779813   \n",
       "0                NaN                NaN                NaN                NaN   \n",
       "2                NaN                NaN                NaN                NaN   \n",
       "4                NaN                NaN                NaN                NaN   \n",
       "\n",
       "   split4_test_score  mean_test_score  std_test_score  rank_test_score  \n",
       "9           0.802122         0.800366        0.006743                1  \n",
       "1           0.801048         0.799856        0.006063                2  \n",
       "3           0.799338         0.797018        0.006161                3  \n",
       "7           0.798757         0.795664        0.005906                4  \n",
       "8           0.793607         0.792718        0.007022                5  \n",
       "6           0.793292         0.788131        0.006443                6  \n",
       "5           0.788961         0.787558        0.004762                7  \n",
       "0                NaN              NaN             NaN                8  \n",
       "2                NaN              NaN             NaN                9  \n",
       "4                NaN              NaN             NaN               10  "
      ]
     },
     "execution_count": 11,
     "metadata": {},
     "output_type": "execute_result"
    }
   ],
   "source": [
    "parameters = {'learning_rate':np.arange(0.1, 0.4, 0.1), 'max_leaf_nodes':np.arange(100, 150, 10), 'max_iter': np.arange(200, 400, 10), \n",
    "             'max_depth': np.arange(50, 150, 10), 'min_samples_leaf':np.arange(0,50,10)}\n",
    "\n",
    "model_randomCV(X_train, y_train, HGB, parameters)"
   ]
  },
  {
   "cell_type": "markdown",
   "metadata": {},
   "source": [
    "### underfit and overfit check"
   ]
  },
  {
   "cell_type": "code",
   "execution_count": 28,
   "metadata": {},
   "outputs": [
    {
     "data": {
      "image/png": "[encoded data removed]",
      "text/plain": [
       "<Figure size 432x288 with 1 Axes>"
      ]
     },
     "metadata": {
      "needs_background": "light"
     },
     "output_type": "display_data"
    }
   ],
   "source": [
    "HGB_best = HistGradientBoostingRegressor(max_depth=140, max_iter=300, max_leaf_nodes=120, min_samples_leaf=40)\n",
    "\n",
    "fit_check(HGB_best, 5)"
   ]
  },
  {
   "cell_type": "code",
   "execution_count": 29,
   "metadata": {},
   "outputs": [
    {
     "data": {
      "image/png": "[encoded data removed]",
      "text/plain": [
       "<Figure size 432x288 with 1 Axes>"
      ]
     },
     "metadata": {
      "needs_background": "light"
     },
     "output_type": "display_data"
    }
   ],
   "source": [
    "fit_check(HGB, 5)"
   ]
  },
  {
   "cell_type": "markdown",
   "metadata": {},
   "source": [
    "The result from the HGB model is kind of trade off, the HGB with hyperparameter tuning got the better R2 but the worse overfitting case, and vice versa for the HGB default"
   ]
  },
  {
   "cell_type": "markdown",
   "metadata": {},
   "source": [
    "## XGB Model"
   ]
  },
  {
   "cell_type": "markdown",
   "metadata": {},
   "source": [
    "### overfitting and underfitting check"
   ]
  },
  {
   "cell_type": "code",
   "execution_count": 58,
   "metadata": {},
   "outputs": [
    {
     "data": {
      "image/png": "[encoded data removed]",
      "text/plain": [
       "<Figure size 432x288 with 1 Axes>"
      ]
     },
     "metadata": {
      "needs_background": "light"
     },
     "output_type": "display_data"
    }
   ],
   "source": [
    "fit_check(XGB, 5)"
   ]
  },
  {
   "cell_type": "code",
   "execution_count": 19,
   "metadata": {},
   "outputs": [
    {
     "data": {
      "text/html": [
       "<div>\n",
       "<style scoped>\n",
       "    .dataframe tbody tr th:only-of-type {\n",
       "        vertical-align: middle;\n",
       "    }\n",
       "\n",
       "    .dataframe tbody tr th {\n",
       "        vertical-align: top;\n",
       "    }\n",
       "\n",
       "    .dataframe thead th {\n",
       "        text-align: right;\n",
       "    }\n",
       "</style>\n",
       "<table border=\"1\" class=\"dataframe\">\n",
       "  <thead>\n",
       "    <tr style=\"text-align: right;\">\n",
       "      <th></th>\n",
       "      <th>parameter</th>\n",
       "      <th>best_R2</th>\n",
       "      <th>best_value</th>\n",
       "    </tr>\n",
       "  </thead>\n",
       "  <tbody>\n",
       "    <tr>\n",
       "      <th>0</th>\n",
       "      <td>n_estimators</td>\n",
       "      <td>0.790611</td>\n",
       "      <td>{'n_estimators': 140}</td>\n",
       "    </tr>\n",
       "  </tbody>\n",
       "</table>\n",
       "</div>"
      ],
      "text/plain": [
       "      parameter   best_R2             best_value\n",
       "0  n_estimators  0.790611  {'n_estimators': 140}"
      ]
     },
     "execution_count": 19,
     "metadata": {},
     "output_type": "execute_result"
    },
    {
     "data": {
      "image/png": "[encoded data removed]",
      "text/plain": [
       "<Figure size 432x288 with 1 Axes>"
      ]
     },
     "metadata": {
      "needs_background": "light"
     },
     "output_type": "display_data"
    }
   ],
   "source": [
    "tuning_param(X_train, y_train, XGB, [{'n_estimators': np.arange(50, 250, 10)}])"
   ]
  },
  {
   "cell_type": "code",
   "execution_count": 20,
   "metadata": {},
   "outputs": [
    {
     "data": {
      "text/html": [
       "<div>\n",
       "<style scoped>\n",
       "    .dataframe tbody tr th:only-of-type {\n",
       "        vertical-align: middle;\n",
       "    }\n",
       "\n",
       "    .dataframe tbody tr th {\n",
       "        vertical-align: top;\n",
       "    }\n",
       "\n",
       "    .dataframe thead th {\n",
       "        text-align: right;\n",
       "    }\n",
       "</style>\n",
       "<table border=\"1\" class=\"dataframe\">\n",
       "  <thead>\n",
       "    <tr style=\"text-align: right;\">\n",
       "      <th></th>\n",
       "      <th>parameter</th>\n",
       "      <th>best_R2</th>\n",
       "      <th>best_value</th>\n",
       "    </tr>\n",
       "  </thead>\n",
       "  <tbody>\n",
       "    <tr>\n",
       "      <th>0</th>\n",
       "      <td>max_depth</td>\n",
       "      <td>0.789811</td>\n",
       "      <td>{'max_depth': 6}</td>\n",
       "    </tr>\n",
       "  </tbody>\n",
       "</table>\n",
       "</div>"
      ],
      "text/plain": [
       "   parameter   best_R2        best_value\n",
       "0  max_depth  0.789811  {'max_depth': 6}"
      ]
     },
     "execution_count": 20,
     "metadata": {},
     "output_type": "execute_result"
    },
    {
     "data": {
      "image/png": "[encoded data removed]",
      "text/plain": [
       "<Figure size 432x288 with 1 Axes>"
      ]
     },
     "metadata": {
      "needs_background": "light"
     },
     "output_type": "display_data"
    }
   ],
   "source": [
    "tuning_param(X_train, y_train, XGB, [{'max_depth': np.arange(1, 11, 1)}])"
   ]
  },
  {
   "cell_type": "code",
   "execution_count": 21,
   "metadata": {},
   "outputs": [
    {
     "data": {
      "text/html": [
       "<div>\n",
       "<style scoped>\n",
       "    .dataframe tbody tr th:only-of-type {\n",
       "        vertical-align: middle;\n",
       "    }\n",
       "\n",
       "    .dataframe tbody tr th {\n",
       "        vertical-align: top;\n",
       "    }\n",
       "\n",
       "    .dataframe thead th {\n",
       "        text-align: right;\n",
       "    }\n",
       "</style>\n",
       "<table border=\"1\" class=\"dataframe\">\n",
       "  <thead>\n",
       "    <tr style=\"text-align: right;\">\n",
       "      <th></th>\n",
       "      <th>parameter</th>\n",
       "      <th>best_R2</th>\n",
       "      <th>best_value</th>\n",
       "    </tr>\n",
       "  </thead>\n",
       "  <tbody>\n",
       "    <tr>\n",
       "      <th>0</th>\n",
       "      <td>eta</td>\n",
       "      <td>0.792905</td>\n",
       "      <td>{'eta': 0.2}</td>\n",
       "    </tr>\n",
       "  </tbody>\n",
       "</table>\n",
       "</div>"
      ],
      "text/plain": [
       "  parameter   best_R2    best_value\n",
       "0       eta  0.792905  {'eta': 0.2}"
      ]
     },
     "execution_count": 21,
     "metadata": {},
     "output_type": "execute_result"
    },
    {
     "data": {
      "image/png": "[encoded data removed]",
      "text/plain": [
       "<Figure size 432x288 with 1 Axes>"
      ]
     },
     "metadata": {
      "needs_background": "light"
     },
     "output_type": "display_data"
    }
   ],
   "source": [
    "tuning_param(X_train, y_train, XGB, [{'eta': np.arange(0.1, 1, 0.1)}])"
   ]
  },
  {
   "cell_type": "code",
   "execution_count": 22,
   "metadata": {},
   "outputs": [
    {
     "data": {
      "text/html": [
       "<div>\n",
       "<style scoped>\n",
       "    .dataframe tbody tr th:only-of-type {\n",
       "        vertical-align: middle;\n",
       "    }\n",
       "\n",
       "    .dataframe tbody tr th {\n",
       "        vertical-align: top;\n",
       "    }\n",
       "\n",
       "    .dataframe thead th {\n",
       "        text-align: right;\n",
       "    }\n",
       "</style>\n",
       "<table border=\"1\" class=\"dataframe\">\n",
       "  <thead>\n",
       "    <tr style=\"text-align: right;\">\n",
       "      <th></th>\n",
       "      <th>parameter</th>\n",
       "      <th>best_R2</th>\n",
       "      <th>best_value</th>\n",
       "    </tr>\n",
       "  </thead>\n",
       "  <tbody>\n",
       "    <tr>\n",
       "      <th>0</th>\n",
       "      <td>eta</td>\n",
       "      <td>0.794737</td>\n",
       "      <td>{'eta': 0.18999999999999995}</td>\n",
       "    </tr>\n",
       "  </tbody>\n",
       "</table>\n",
       "</div>"
      ],
      "text/plain": [
       "  parameter   best_R2                    best_value\n",
       "0       eta  0.794737  {'eta': 0.18999999999999995}"
      ]
     },
     "execution_count": 22,
     "metadata": {},
     "output_type": "execute_result"
    },
    {
     "data": {
      "image/png": "[encoded data removed]",
      "text/plain": [
       "<Figure size 432x288 with 1 Axes>"
      ]
     },
     "metadata": {
      "needs_background": "light"
     },
     "output_type": "display_data"
    }
   ],
   "source": [
    "tuning_param(X_train, y_train, XGB, [{'eta': np.arange(0.1, 0.3, 0.01)}])"
   ]
  },
  {
   "cell_type": "code",
   "execution_count": 26,
   "metadata": {
    "scrolled": true
   },
   "outputs": [
    {
     "data": {
      "text/html": [
       "<div>\n",
       "<style scoped>\n",
       "    .dataframe tbody tr th:only-of-type {\n",
       "        vertical-align: middle;\n",
       "    }\n",
       "\n",
       "    .dataframe tbody tr th {\n",
       "        vertical-align: top;\n",
       "    }\n",
       "\n",
       "    .dataframe thead th {\n",
       "        text-align: right;\n",
       "    }\n",
       "</style>\n",
       "<table border=\"1\" class=\"dataframe\">\n",
       "  <thead>\n",
       "    <tr style=\"text-align: right;\">\n",
       "      <th></th>\n",
       "      <th>parameter</th>\n",
       "      <th>best_R2</th>\n",
       "      <th>best_value</th>\n",
       "    </tr>\n",
       "  </thead>\n",
       "  <tbody>\n",
       "    <tr>\n",
       "      <th>0</th>\n",
       "      <td>subsample</td>\n",
       "      <td>0.789811</td>\n",
       "      <td>{'subsample': 1.0}</td>\n",
       "    </tr>\n",
       "  </tbody>\n",
       "</table>\n",
       "</div>"
      ],
      "text/plain": [
       "   parameter   best_R2          best_value\n",
       "0  subsample  0.789811  {'subsample': 1.0}"
      ]
     },
     "execution_count": 26,
     "metadata": {},
     "output_type": "execute_result"
    },
    {
     "data": {
      "image/png": "[encoded data removed]",
      "text/plain": [
       "<Figure size 432x288 with 1 Axes>"
      ]
     },
     "metadata": {
      "needs_background": "light"
     },
     "output_type": "display_data"
    }
   ],
   "source": [
    "tuning_param(X_train, y_train, XGB, [{'subsample': np.arange(0.1, 1, 0.1)}])"
   ]
  },
  {
   "cell_type": "code",
   "execution_count": 28,
   "metadata": {},
   "outputs": [
    {
     "data": {
      "text/html": [
       "<div>\n",
       "<style scoped>\n",
       "    .dataframe tbody tr th:only-of-type {\n",
       "        vertical-align: middle;\n",
       "    }\n",
       "\n",
       "    .dataframe tbody tr th {\n",
       "        vertical-align: top;\n",
       "    }\n",
       "\n",
       "    .dataframe thead th {\n",
       "        text-align: right;\n",
       "    }\n",
       "</style>\n",
       "<table border=\"1\" class=\"dataframe\">\n",
       "  <thead>\n",
       "    <tr style=\"text-align: right;\">\n",
       "      <th></th>\n",
       "      <th>parameter</th>\n",
       "      <th>best_R2</th>\n",
       "      <th>best_value</th>\n",
       "    </tr>\n",
       "  </thead>\n",
       "  <tbody>\n",
       "    <tr>\n",
       "      <th>0</th>\n",
       "      <td>colsample_bytree</td>\n",
       "      <td>0.79288</td>\n",
       "      <td>{'colsample_bytree': 0.8}</td>\n",
       "    </tr>\n",
       "  </tbody>\n",
       "</table>\n",
       "</div>"
      ],
      "text/plain": [
       "          parameter  best_R2                 best_value\n",
       "0  colsample_bytree  0.79288  {'colsample_bytree': 0.8}"
      ]
     },
     "execution_count": 28,
     "metadata": {},
     "output_type": "execute_result"
    },
    {
     "data": {
      "image/png": "[encoded data removed]",
      "text/plain": [
       "<Figure size 432x288 with 1 Axes>"
      ]
     },
     "metadata": {
      "needs_background": "light"
     },
     "output_type": "display_data"
    }
   ],
   "source": [
    "tuning_param(X_train, y_train, XGB, [{'colsample_bytree': np.arange(0.1, 1, 0.1)}])"
   ]
  },
  {
   "cell_type": "code",
   "execution_count": 29,
   "metadata": {},
   "outputs": [
    {
     "name": "stdout",
     "output_type": "stream",
     "text": [
      "best_parameters: {'subsample': 1, 'n_estimators': 130, 'max_depth': 7, 'eta': 0.1, 'colsample_bytree': 1}\n",
      "best_score: 0.7982015557528866\n",
      "best_estimator: XGBRegressor(base_score=0.5, booster='gbtree', colsample_bylevel=1,\n",
      "             colsample_bynode=1, colsample_bytree=1, eta=0.1, gamma=0,\n",
      "             gpu_id=-1, importance_type='gain', interaction_constraints='',\n",
      "             learning_rate=0.100000001, max_delta_step=0, max_depth=7,\n",
      "             min_child_weight=1, missing=nan, monotone_constraints='()',\n",
      "             n_estimators=130, n_jobs=4, num_parallel_tree=1, random_state=0,\n",
      "             reg_alpha=0, reg_lambda=1, scale_pos_weight=1, subsample=1,\n",
      "             tree_method='exact', validate_parameters=1, verbosity=None)\n"
     ]
    },
    {
     "data": {
      "text/html": [
       "<div>\n",
       "<style scoped>\n",
       "    .dataframe tbody tr th:only-of-type {\n",
       "        vertical-align: middle;\n",
       "    }\n",
       "\n",
       "    .dataframe tbody tr th {\n",
       "        vertical-align: top;\n",
       "    }\n",
       "\n",
       "    .dataframe thead th {\n",
       "        text-align: right;\n",
       "    }\n",
       "</style>\n",
       "<table border=\"1\" class=\"dataframe\">\n",
       "  <thead>\n",
       "    <tr style=\"text-align: right;\">\n",
       "      <th></th>\n",
       "      <th>mean_fit_time</th>\n",
       "      <th>std_fit_time</th>\n",
       "      <th>mean_score_time</th>\n",
       "      <th>std_score_time</th>\n",
       "      <th>param_subsample</th>\n",
       "      <th>param_n_estimators</th>\n",
       "      <th>param_max_depth</th>\n",
       "      <th>param_eta</th>\n",
       "      <th>param_colsample_bytree</th>\n",
       "      <th>params</th>\n",
       "      <th>split0_test_score</th>\n",
       "      <th>split1_test_score</th>\n",
       "      <th>split2_test_score</th>\n",
       "      <th>split3_test_score</th>\n",
       "      <th>split4_test_score</th>\n",
       "      <th>mean_test_score</th>\n",
       "      <th>std_test_score</th>\n",
       "      <th>rank_test_score</th>\n",
       "    </tr>\n",
       "  </thead>\n",
       "  <tbody>\n",
       "    <tr>\n",
       "      <th>7</th>\n",
       "      <td>17.097398</td>\n",
       "      <td>0.194339</td>\n",
       "      <td>0.041201</td>\n",
       "      <td>0.012005</td>\n",
       "      <td>1</td>\n",
       "      <td>130</td>\n",
       "      <td>7</td>\n",
       "      <td>0.1</td>\n",
       "      <td>1</td>\n",
       "      <td>{'subsample': 1, 'n_estimators': 130, 'max_dep...</td>\n",
       "      <td>0.800653</td>\n",
       "      <td>0.805448</td>\n",
       "      <td>0.795730</td>\n",
       "      <td>0.787812</td>\n",
       "      <td>0.801364</td>\n",
       "      <td>0.798202</td>\n",
       "      <td>0.006043</td>\n",
       "      <td>1</td>\n",
       "    </tr>\n",
       "    <tr>\n",
       "      <th>1</th>\n",
       "      <td>21.466599</td>\n",
       "      <td>0.512950</td>\n",
       "      <td>0.056604</td>\n",
       "      <td>0.010250</td>\n",
       "      <td>1</td>\n",
       "      <td>170</td>\n",
       "      <td>7</td>\n",
       "      <td>0.2</td>\n",
       "      <td>1</td>\n",
       "      <td>{'subsample': 1, 'n_estimators': 170, 'max_dep...</td>\n",
       "      <td>0.800449</td>\n",
       "      <td>0.804237</td>\n",
       "      <td>0.794236</td>\n",
       "      <td>0.789679</td>\n",
       "      <td>0.801900</td>\n",
       "      <td>0.798100</td>\n",
       "      <td>0.005356</td>\n",
       "      <td>2</td>\n",
       "    </tr>\n",
       "    <tr>\n",
       "      <th>6</th>\n",
       "      <td>14.465797</td>\n",
       "      <td>0.157858</td>\n",
       "      <td>0.040201</td>\n",
       "      <td>0.012385</td>\n",
       "      <td>1</td>\n",
       "      <td>135</td>\n",
       "      <td>6</td>\n",
       "      <td>0.1</td>\n",
       "      <td>1</td>\n",
       "      <td>{'subsample': 1, 'n_estimators': 135, 'max_dep...</td>\n",
       "      <td>0.795274</td>\n",
       "      <td>0.801062</td>\n",
       "      <td>0.787731</td>\n",
       "      <td>0.784450</td>\n",
       "      <td>0.797712</td>\n",
       "      <td>0.793246</td>\n",
       "      <td>0.006212</td>\n",
       "      <td>3</td>\n",
       "    </tr>\n",
       "    <tr>\n",
       "      <th>2</th>\n",
       "      <td>14.213198</td>\n",
       "      <td>0.172172</td>\n",
       "      <td>0.037202</td>\n",
       "      <td>0.008009</td>\n",
       "      <td>1</td>\n",
       "      <td>130</td>\n",
       "      <td>6</td>\n",
       "      <td>0.1</td>\n",
       "      <td>1</td>\n",
       "      <td>{'subsample': 1, 'n_estimators': 130, 'max_dep...</td>\n",
       "      <td>0.795185</td>\n",
       "      <td>0.800207</td>\n",
       "      <td>0.787564</td>\n",
       "      <td>0.783429</td>\n",
       "      <td>0.796891</td>\n",
       "      <td>0.792655</td>\n",
       "      <td>0.006204</td>\n",
       "      <td>4</td>\n",
       "    </tr>\n",
       "    <tr>\n",
       "      <th>0</th>\n",
       "      <td>22.434799</td>\n",
       "      <td>0.904699</td>\n",
       "      <td>0.077000</td>\n",
       "      <td>0.018074</td>\n",
       "      <td>1</td>\n",
       "      <td>165</td>\n",
       "      <td>8</td>\n",
       "      <td>0.3</td>\n",
       "      <td>1</td>\n",
       "      <td>{'subsample': 1, 'n_estimators': 165, 'max_dep...</td>\n",
       "      <td>0.790062</td>\n",
       "      <td>0.797720</td>\n",
       "      <td>0.786798</td>\n",
       "      <td>0.778342</td>\n",
       "      <td>0.793732</td>\n",
       "      <td>0.789331</td>\n",
       "      <td>0.006594</td>\n",
       "      <td>5</td>\n",
       "    </tr>\n",
       "    <tr>\n",
       "      <th>9</th>\n",
       "      <td>10.052598</td>\n",
       "      <td>0.741298</td>\n",
       "      <td>0.029801</td>\n",
       "      <td>0.006114</td>\n",
       "      <td>1</td>\n",
       "      <td>170</td>\n",
       "      <td>4</td>\n",
       "      <td>0.2</td>\n",
       "      <td>1</td>\n",
       "      <td>{'subsample': 1, 'n_estimators': 170, 'max_dep...</td>\n",
       "      <td>0.787294</td>\n",
       "      <td>0.797076</td>\n",
       "      <td>0.785053</td>\n",
       "      <td>0.778492</td>\n",
       "      <td>0.790845</td>\n",
       "      <td>0.787752</td>\n",
       "      <td>0.006160</td>\n",
       "      <td>6</td>\n",
       "    </tr>\n",
       "    <tr>\n",
       "      <th>8</th>\n",
       "      <td>12.737200</td>\n",
       "      <td>0.231356</td>\n",
       "      <td>0.032801</td>\n",
       "      <td>0.002481</td>\n",
       "      <td>1</td>\n",
       "      <td>150</td>\n",
       "      <td>5</td>\n",
       "      <td>0.1</td>\n",
       "      <td>1</td>\n",
       "      <td>{'subsample': 1, 'n_estimators': 150, 'max_dep...</td>\n",
       "      <td>0.789139</td>\n",
       "      <td>0.797104</td>\n",
       "      <td>0.783115</td>\n",
       "      <td>0.777152</td>\n",
       "      <td>0.789362</td>\n",
       "      <td>0.787174</td>\n",
       "      <td>0.006696</td>\n",
       "      <td>7</td>\n",
       "    </tr>\n",
       "    <tr>\n",
       "      <th>5</th>\n",
       "      <td>8.496199</td>\n",
       "      <td>0.122439</td>\n",
       "      <td>0.028803</td>\n",
       "      <td>0.004308</td>\n",
       "      <td>1</td>\n",
       "      <td>130</td>\n",
       "      <td>4</td>\n",
       "      <td>0.4</td>\n",
       "      <td>1</td>\n",
       "      <td>{'subsample': 1, 'n_estimators': 130, 'max_dep...</td>\n",
       "      <td>0.785978</td>\n",
       "      <td>0.794458</td>\n",
       "      <td>0.781585</td>\n",
       "      <td>0.779154</td>\n",
       "      <td>0.790182</td>\n",
       "      <td>0.786272</td>\n",
       "      <td>0.005568</td>\n",
       "      <td>8</td>\n",
       "    </tr>\n",
       "    <tr>\n",
       "      <th>4</th>\n",
       "      <td>8.256799</td>\n",
       "      <td>0.079342</td>\n",
       "      <td>0.029001</td>\n",
       "      <td>0.002898</td>\n",
       "      <td>1</td>\n",
       "      <td>125</td>\n",
       "      <td>4</td>\n",
       "      <td>0.2</td>\n",
       "      <td>1</td>\n",
       "      <td>{'subsample': 1, 'n_estimators': 125, 'max_dep...</td>\n",
       "      <td>0.783783</td>\n",
       "      <td>0.792692</td>\n",
       "      <td>0.781130</td>\n",
       "      <td>0.774586</td>\n",
       "      <td>0.786300</td>\n",
       "      <td>0.783698</td>\n",
       "      <td>0.005955</td>\n",
       "      <td>9</td>\n",
       "    </tr>\n",
       "    <tr>\n",
       "      <th>3</th>\n",
       "      <td>9.422198</td>\n",
       "      <td>0.167969</td>\n",
       "      <td>0.033402</td>\n",
       "      <td>0.006120</td>\n",
       "      <td>1</td>\n",
       "      <td>145</td>\n",
       "      <td>4</td>\n",
       "      <td>0.1</td>\n",
       "      <td>1</td>\n",
       "      <td>{'subsample': 1, 'n_estimators': 145, 'max_dep...</td>\n",
       "      <td>0.776004</td>\n",
       "      <td>0.785434</td>\n",
       "      <td>0.772754</td>\n",
       "      <td>0.764013</td>\n",
       "      <td>0.779914</td>\n",
       "      <td>0.775624</td>\n",
       "      <td>0.007181</td>\n",
       "      <td>10</td>\n",
       "    </tr>\n",
       "  </tbody>\n",
       "</table>\n",
       "</div>"
      ],
      "text/plain": [
       "   mean_fit_time  std_fit_time  mean_score_time  std_score_time  \\\n",
       "7      17.097398      0.194339         0.041201        0.012005   \n",
       "1      21.466599      0.512950         0.056604        0.010250   \n",
       "6      14.465797      0.157858         0.040201        0.012385   \n",
       "2      14.213198      0.172172         0.037202        0.008009   \n",
       "0      22.434799      0.904699         0.077000        0.018074   \n",
       "9      10.052598      0.741298         0.029801        0.006114   \n",
       "8      12.737200      0.231356         0.032801        0.002481   \n",
       "5       8.496199      0.122439         0.028803        0.004308   \n",
       "4       8.256799      0.079342         0.029001        0.002898   \n",
       "3       9.422198      0.167969         0.033402        0.006120   \n",
       "\n",
       "  param_subsample param_n_estimators param_max_depth param_eta  \\\n",
       "7               1                130               7       0.1   \n",
       "1               1                170               7       0.2   \n",
       "6               1                135               6       0.1   \n",
       "2               1                130               6       0.1   \n",
       "0               1                165               8       0.3   \n",
       "9               1                170               4       0.2   \n",
       "8               1                150               5       0.1   \n",
       "5               1                130               4       0.4   \n",
       "4               1                125               4       0.2   \n",
       "3               1                145               4       0.1   \n",
       "\n",
       "  param_colsample_bytree                                             params  \\\n",
       "7                      1  {'subsample': 1, 'n_estimators': 130, 'max_dep...   \n",
       "1                      1  {'subsample': 1, 'n_estimators': 170, 'max_dep...   \n",
       "6                      1  {'subsample': 1, 'n_estimators': 135, 'max_dep...   \n",
       "2                      1  {'subsample': 1, 'n_estimators': 130, 'max_dep...   \n",
       "0                      1  {'subsample': 1, 'n_estimators': 165, 'max_dep...   \n",
       "9                      1  {'subsample': 1, 'n_estimators': 170, 'max_dep...   \n",
       "8                      1  {'subsample': 1, 'n_estimators': 150, 'max_dep...   \n",
       "5                      1  {'subsample': 1, 'n_estimators': 130, 'max_dep...   \n",
       "4                      1  {'subsample': 1, 'n_estimators': 125, 'max_dep...   \n",
       "3                      1  {'subsample': 1, 'n_estimators': 145, 'max_dep...   \n",
       "\n",
       "   split0_test_score  split1_test_score  split2_test_score  split3_test_score  \\\n",
       "7           0.800653           0.805448           0.795730           0.787812   \n",
       "1           0.800449           0.804237           0.794236           0.789679   \n",
       "6           0.795274           0.801062           0.787731           0.784450   \n",
       "2           0.795185           0.800207           0.787564           0.783429   \n",
       "0           0.790062           0.797720           0.786798           0.778342   \n",
       "9           0.787294           0.797076           0.785053           0.778492   \n",
       "8           0.789139           0.797104           0.783115           0.777152   \n",
       "5           0.785978           0.794458           0.781585           0.779154   \n",
       "4           0.783783           0.792692           0.781130           0.774586   \n",
       "3           0.776004           0.785434           0.772754           0.764013   \n",
       "\n",
       "   split4_test_score  mean_test_score  std_test_score  rank_test_score  \n",
       "7           0.801364         0.798202        0.006043                1  \n",
       "1           0.801900         0.798100        0.005356                2  \n",
       "6           0.797712         0.793246        0.006212                3  \n",
       "2           0.796891         0.792655        0.006204                4  \n",
       "0           0.793732         0.789331        0.006594                5  \n",
       "9           0.790845         0.787752        0.006160                6  \n",
       "8           0.789362         0.787174        0.006696                7  \n",
       "5           0.790182         0.786272        0.005568                8  \n",
       "4           0.786300         0.783698        0.005955                9  \n",
       "3           0.779914         0.775624        0.007181               10  "
      ]
     },
     "execution_count": 29,
     "metadata": {},
     "output_type": "execute_result"
    }
   ],
   "source": [
    "parameters = {'n_estimators': np.arange(125, 175, 5), 'max_depth': np.arange(4, 9, 1), 'eta': np.arange(0.1, 0.4, 0.1), \n",
    "             'subsample': [1], 'colsample_bytree': [1]}\n",
    "\n",
    "model_randomCV(X_train, y_train, XGB, parameters)"
   ]
  },
  {
   "cell_type": "code",
   "execution_count": 30,
   "metadata": {},
   "outputs": [
    {
     "data": {
      "image/png": "[encoded data removed]",
      "text/plain": [
       "<Figure size 432x288 with 1 Axes>"
      ]
     },
     "metadata": {
      "needs_background": "light"
     },
     "output_type": "display_data"
    }
   ],
   "source": [
    "XGB_best = XGBRegressor(colsample_bytree=1, eta=0.1, learning_rate=0.100000001, max_depth=7,\n",
    "                          n_estimators=130,)\n",
    "\n",
    "fit_check(XGB_best, 5)"
   ]
  },
  {
   "cell_type": "code",
   "execution_count": 31,
   "metadata": {},
   "outputs": [
    {
     "data": {
      "image/png": "[encoded data removed]",
      "text/plain": [
       "<Figure size 432x288 with 1 Axes>"
      ]
     },
     "metadata": {
      "needs_background": "light"
     },
     "output_type": "display_data"
    }
   ],
   "source": [
    "fit_check(XGB, 5)"
   ]
  },
  {
   "cell_type": "markdown",
   "metadata": {},
   "source": [
    "### Final Recap"
   ]
  },
  {
   "cell_type": "code",
   "execution_count": 35,
   "metadata": {},
   "outputs": [
    {
     "data": {
      "text/html": [
       "<div>\n",
       "<style scoped>\n",
       "    .dataframe tbody tr th:only-of-type {\n",
       "        vertical-align: middle;\n",
       "    }\n",
       "\n",
       "    .dataframe tbody tr th {\n",
       "        vertical-align: top;\n",
       "    }\n",
       "\n",
       "    .dataframe thead th {\n",
       "        text-align: right;\n",
       "    }\n",
       "</style>\n",
       "<table border=\"1\" class=\"dataframe\">\n",
       "  <thead>\n",
       "    <tr style=\"text-align: right;\">\n",
       "      <th></th>\n",
       "      <th>model</th>\n",
       "      <th>R2</th>\n",
       "      <th>RMSE Difference</th>\n",
       "    </tr>\n",
       "  </thead>\n",
       "  <tbody>\n",
       "    <tr>\n",
       "      <th>0</th>\n",
       "      <td>RF</td>\n",
       "      <td>0.775639</td>\n",
       "      <td>around 3000</td>\n",
       "    </tr>\n",
       "    <tr>\n",
       "      <th>1</th>\n",
       "      <td>RF_best</td>\n",
       "      <td>0.781539</td>\n",
       "      <td>around 1000</td>\n",
       "    </tr>\n",
       "    <tr>\n",
       "      <th>2</th>\n",
       "      <td>HGB</td>\n",
       "      <td>0.793786</td>\n",
       "      <td>around 100</td>\n",
       "    </tr>\n",
       "    <tr>\n",
       "      <th>3</th>\n",
       "      <td>HGB_best</td>\n",
       "      <td>0.800366</td>\n",
       "      <td>around 600</td>\n",
       "    </tr>\n",
       "    <tr>\n",
       "      <th>4</th>\n",
       "      <td>XGB</td>\n",
       "      <td>0.799761</td>\n",
       "      <td>around 600</td>\n",
       "    </tr>\n",
       "    <tr>\n",
       "      <th>5</th>\n",
       "      <td>XGB_best</td>\n",
       "      <td>0.798202</td>\n",
       "      <td>around 600</td>\n",
       "    </tr>\n",
       "  </tbody>\n",
       "</table>\n",
       "</div>"
      ],
      "text/plain": [
       "      model        R2 RMSE Difference\n",
       "0        RF  0.775639     around 3000\n",
       "1   RF_best  0.781539     around 1000\n",
       "2       HGB  0.793786      around 100\n",
       "3  HGB_best  0.800366      around 600\n",
       "4       XGB  0.799761      around 600\n",
       "5  XGB_best  0.798202      around 600"
      ]
     },
     "execution_count": 35,
     "metadata": {},
     "output_type": "execute_result"
    }
   ],
   "source": [
    "final = {'model' : ['RF', 'RF_best', 'HGB', 'HGB_best', 'XGB', 'XGB_best'], \n",
    "         'R2' : [0.775639, 0.7815388659752746, 0.793786, 0.8003662621122644, 0.799761, 0.7982015557528866], \n",
    "         'RMSE Difference' : ['around 3000', 'around 1000', 'around 100', 'around 600', 'around 600', 'around 600']}\n",
    "\n",
    "pd.DataFrame(final)"
   ]
  },
  {
   "cell_type": "code",
   "execution_count": 34,
   "metadata": {},
   "outputs": [
    {
     "data": {
      "text/html": [
       "<div>\n",
       "<style scoped>\n",
       "    .dataframe tbody tr th:only-of-type {\n",
       "        vertical-align: middle;\n",
       "    }\n",
       "\n",
       "    .dataframe tbody tr th {\n",
       "        vertical-align: top;\n",
       "    }\n",
       "\n",
       "    .dataframe thead th {\n",
       "        text-align: right;\n",
       "    }\n",
       "</style>\n",
       "<table border=\"1\" class=\"dataframe\">\n",
       "  <thead>\n",
       "    <tr style=\"text-align: right;\">\n",
       "      <th></th>\n",
       "      <th>models</th>\n",
       "      <th>R2</th>\n",
       "      <th>RMSE Difference</th>\n",
       "    </tr>\n",
       "  </thead>\n",
       "  <tbody>\n",
       "    <tr>\n",
       "      <th>0</th>\n",
       "      <td>(DecisionTreeRegressor(max_features='auto', ra...</td>\n",
       "      <td>0.776509</td>\n",
       "      <td>2627.807989</td>\n",
       "    </tr>\n",
       "    <tr>\n",
       "      <th>1</th>\n",
       "      <td>(DecisionTreeRegressor(max_depth=190, max_feat...</td>\n",
       "      <td>0.784955</td>\n",
       "      <td>961.925350</td>\n",
       "    </tr>\n",
       "    <tr>\n",
       "      <th>2</th>\n",
       "      <td>HistGradientBoostingRegressor()</td>\n",
       "      <td>0.794066</td>\n",
       "      <td>142.070993</td>\n",
       "    </tr>\n",
       "    <tr>\n",
       "      <th>3</th>\n",
       "      <td>HistGradientBoostingRegressor(max_depth=140, m...</td>\n",
       "      <td>0.808043</td>\n",
       "      <td>527.996291</td>\n",
       "    </tr>\n",
       "    <tr>\n",
       "      <th>4</th>\n",
       "      <td>XGBRegressor(base_score=0.5, booster='gbtree',...</td>\n",
       "      <td>0.799757</td>\n",
       "      <td>583.374910</td>\n",
       "    </tr>\n",
       "    <tr>\n",
       "      <th>5</th>\n",
       "      <td>XGBRegressor(base_score=0.5, booster='gbtree',...</td>\n",
       "      <td>0.803411</td>\n",
       "      <td>481.392069</td>\n",
       "    </tr>\n",
       "  </tbody>\n",
       "</table>\n",
       "</div>"
      ],
      "text/plain": [
       "                                              models        R2  \\\n",
       "0  (DecisionTreeRegressor(max_features='auto', ra...  0.776509   \n",
       "1  (DecisionTreeRegressor(max_depth=190, max_feat...  0.784955   \n",
       "2                    HistGradientBoostingRegressor()  0.794066   \n",
       "3  HistGradientBoostingRegressor(max_depth=140, m...  0.808043   \n",
       "4  XGBRegressor(base_score=0.5, booster='gbtree',...  0.799757   \n",
       "5  XGBRegressor(base_score=0.5, booster='gbtree',...  0.803411   \n",
       "\n",
       "   RMSE Difference  \n",
       "0      2627.807989  \n",
       "1       961.925350  \n",
       "2       142.070993  \n",
       "3       527.996291  \n",
       "4       583.374910  \n",
       "5       481.392069  "
      ]
     },
     "execution_count": 34,
     "metadata": {},
     "output_type": "execute_result"
    }
   ],
   "source": [
    "from sklearn.metrics import mean_squared_error, r2_score\n",
    "\n",
    "models = [rf, rf_best, HGB, HGB_best, XGB, XGB_best]\n",
    "\n",
    "R2_result = []\n",
    "MSE_result = []\n",
    "MSE_train_result = []\n",
    "\n",
    "for model in models:\n",
    "    model.fit(X_train, y_train)\n",
    "    y_train_pred = model.predict(X_train)\n",
    "    y_pred = model.predict(X_test)\n",
    "    MSE_train = mean_squared_error(y_train, y_train_pred)\n",
    "    MSE = mean_squared_error(y_test, y_pred)\n",
    "    R2 = r2_score(y_test, y_pred)       \n",
    "    R2_result.append(R2)\n",
    "    MSE_train_result.append(MSE_train)    \n",
    "    MSE_result.append(MSE)  \n",
    "    \n",
    "pd.DataFrame({'models':models, 'R2':R2_result, 'RMSE Difference':abs(np.sqrt(MSE_result) - np.sqrt(MSE_train_result))}) "
   ]
  },
  {
   "cell_type": "markdown",
   "metadata": {},
   "source": [
    "so I think the best model is HGB with default parameters"
   ]
  },
  {
   "cell_type": "markdown",
   "metadata": {},
   "source": [
    "### Final predicted model"
   ]
  },
  {
   "cell_type": "code",
   "execution_count": 35,
   "metadata": {},
   "outputs": [
    {
     "data": {
      "text/plain": [
       "HistGradientBoostingRegressor()"
      ]
     },
     "execution_count": 35,
     "metadata": {},
     "output_type": "execute_result"
    }
   ],
   "source": [
    "HGB.fit(X_train, y_train)"
   ]
  },
  {
   "cell_type": "code",
   "execution_count": 36,
   "metadata": {},
   "outputs": [],
   "source": [
    "def predicted_price(manufacturer, condition, cylinders, fuel, odometer, transmission, drive, type, age, car_size):\n",
    "    \n",
    "    x = np.zeros(10)\n",
    "    x[0] = le['manufacturer'].transform([manufacturer])\n",
    "    x[1] = le['condition'].transform([condition])\n",
    "    x[2] = le['cylinders'].transform([cylinders])\n",
    "    x[3] = le['fuel'].transform([fuel])\n",
    "    x[4] = odometer\n",
    "    x[5] = le['transmission'].transform([transmission])\n",
    "    x[6] = le['drive'].transform([drive])\n",
    "    x[7] = le['type'].transform([type])\n",
    "    x[8] = age\n",
    "    x[9] = le['car_size'].transform([car_size])\n",
    "    \n",
    "    x = scaler.transform([x])\n",
    "    \n",
    "    \n",
    "    return HGB.predict(x)"
   ]
  },
  {
   "cell_type": "code",
   "execution_count": 50,
   "metadata": {},
   "outputs": [
    {
     "data": {
      "text/plain": [
       "array([5555.57348083])"
      ]
     },
     "execution_count": 50,
     "metadata": {},
     "output_type": "execute_result"
    }
   ],
   "source": [
    "predicted_price('toyota', 'excellent', '8 cylinders', 'gas', 1000000.0 , 'automatic', 'rwd', 'sedan', 30, 'mid-size')"
   ]
  },
  {
   "cell_type": "code",
   "execution_count": null,
   "metadata": {},
   "outputs": [],
   "source": []
  },
  {
   "cell_type": "markdown",
   "metadata": {},
   "source": [
    "### save the model to pickle"
   ]
  },
  {
   "cell_type": "code",
   "execution_count": 51,
   "metadata": {},
   "outputs": [],
   "source": [
    "import pickle\n",
    "with open('used_car_craiglist_model_prediction.pickle','wb') as f:\n",
    "    pickle.dump(HGB ,f)"
   ]
  },
  {
   "cell_type": "code",
   "execution_count": null,
   "metadata": {},
   "outputs": [],
   "source": []
  },
  {
   "cell_type": "markdown",
   "metadata": {},
   "source": [
    "### Export location and column information to a file that will be useful later on in our prediction application"
   ]
  },
  {
   "cell_type": "code",
   "execution_count": 52,
   "metadata": {},
   "outputs": [
    {
     "data": {
      "text/plain": [
       "Index(['price', 'manufacturer', 'condition', 'cylinders', 'fuel', 'odometer',\n",
       "       'transmission', 'drive', 'type', 'age', 'car_size'],\n",
       "      dtype='object')"
      ]
     },
     "execution_count": 52,
     "metadata": {},
     "output_type": "execute_result"
    }
   ],
   "source": [
    "df2.columns"
   ]
  },
  {
   "cell_type": "code",
   "execution_count": 56,
   "metadata": {},
   "outputs": [],
   "source": [
    "import json\n",
    "columns = {\n",
    "    'data_manufacturer' : [row.lower() for row in df2.manufacturer.unique()],\n",
    "    'data_condition' : [row.lower() for row in df2.condition.unique()],\n",
    "    'data_cylinders' : [row.lower() for row in df2.cylinders.unique()],\n",
    "    'data_fuel' : [row.lower() for row in df2.fuel.unique()],\n",
    "    'data_transmission' : [row.lower() for row in df2.transmission.unique()],\n",
    "    'data_drive' : [row.lower() for row in df2.drive.unique()],\n",
    "    'data_type' : [row.lower() for row in df2.type.unique()],\n",
    "    'data_car_size' : [row.lower() for row in df2.car_size.unique()]    \n",
    "}\n",
    "with open(\"data_ucc.json\",\"w\") as f:\n",
    "    f.write(json.dumps(columns))"
   ]
  },
  {
   "cell_type": "code",
   "execution_count": null,
   "metadata": {},
   "outputs": [],
   "source": []
  }
 ],
 "metadata": {
  "kernelspec": {
   "display_name": "Python 3",
   "language": "python",
   "name": "python3"
  },
  "language_info": {
   "codemirror_mode": {
    "name": "ipython",
    "version": 3
   },
   "file_extension": ".py",
   "mimetype": "text/x-python",
   "name": "python",
   "nbconvert_exporter": "python",
   "pygments_lexer": "ipython3",
   "version": "3.7.9"
  }
 },
 "nbformat": 4,
 "nbformat_minor": 4
}
