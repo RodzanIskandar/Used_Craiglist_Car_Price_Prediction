{
 "cells": [
  {
   "cell_type": "code",
   "execution_count": 1,
   "metadata": {},
   "outputs": [],
   "source": [
    "import pandas as pd\n",
    "import matplotlib.pyplot as plt\n",
    "import numpy as np\n",
    "import seaborn as sns\n",
    "import warnings\n",
    "warnings.filterwarnings('ignore')"
   ]
  },
  {
   "cell_type": "code",
   "execution_count": 2,
   "metadata": {},
   "outputs": [],
   "source": [
    "df = pd.read_csv('used car data with other.csv')"
   ]
  },
  {
   "cell_type": "code",
   "execution_count": 3,
   "metadata": {},
   "outputs": [
    {
     "data": {
      "text/plain": [
       "Index(['price', 'manufacturer', 'condition', 'cylinders', 'fuel', 'odometer',\n",
       "       'transmission', 'drive', 'size', 'type', 'age'],\n",
       "      dtype='object')"
      ]
     },
     "execution_count": 3,
     "metadata": {},
     "output_type": "execute_result"
    }
   ],
   "source": [
    "df.columns"
   ]
  },
  {
   "cell_type": "code",
   "execution_count": 4,
   "metadata": {},
   "outputs": [
    {
     "data": {
      "text/html": [
       "<div>\n",
       "<style scoped>\n",
       "    .dataframe tbody tr th:only-of-type {\n",
       "        vertical-align: middle;\n",
       "    }\n",
       "\n",
       "    .dataframe tbody tr th {\n",
       "        vertical-align: top;\n",
       "    }\n",
       "\n",
       "    .dataframe thead th {\n",
       "        text-align: right;\n",
       "    }\n",
       "</style>\n",
       "<table border=\"1\" class=\"dataframe\">\n",
       "  <thead>\n",
       "    <tr style=\"text-align: right;\">\n",
       "      <th></th>\n",
       "      <th>price</th>\n",
       "      <th>manufacturer</th>\n",
       "      <th>condition</th>\n",
       "      <th>cylinders</th>\n",
       "      <th>fuel</th>\n",
       "      <th>odometer</th>\n",
       "      <th>transmission</th>\n",
       "      <th>drive</th>\n",
       "      <th>size</th>\n",
       "      <th>type</th>\n",
       "      <th>age</th>\n",
       "    </tr>\n",
       "  </thead>\n",
       "  <tbody>\n",
       "    <tr>\n",
       "      <th>0</th>\n",
       "      <td>9500</td>\n",
       "      <td>chrysler</td>\n",
       "      <td>excellent</td>\n",
       "      <td>6 cylinders</td>\n",
       "      <td>gas</td>\n",
       "      <td>30376.0</td>\n",
       "      <td>automatic</td>\n",
       "      <td>fwd</td>\n",
       "      <td>mid-size</td>\n",
       "      <td>mini-van</td>\n",
       "      <td>18.0</td>\n",
       "    </tr>\n",
       "    <tr>\n",
       "      <th>1</th>\n",
       "      <td>18250</td>\n",
       "      <td>toyota</td>\n",
       "      <td>good</td>\n",
       "      <td>6 cylinders</td>\n",
       "      <td>gas</td>\n",
       "      <td>201300.0</td>\n",
       "      <td>manual</td>\n",
       "      <td>4wd</td>\n",
       "      <td>full-size</td>\n",
       "      <td>offroad</td>\n",
       "      <td>13.0</td>\n",
       "    </tr>\n",
       "    <tr>\n",
       "      <th>2</th>\n",
       "      <td>6800</td>\n",
       "      <td>other</td>\n",
       "      <td>excellent</td>\n",
       "      <td>6 cylinders</td>\n",
       "      <td>diesel</td>\n",
       "      <td>180000.0</td>\n",
       "      <td>automatic</td>\n",
       "      <td>rwd</td>\n",
       "      <td>full-size</td>\n",
       "      <td>bus</td>\n",
       "      <td>16.0</td>\n",
       "    </tr>\n",
       "    <tr>\n",
       "      <th>3</th>\n",
       "      <td>2500</td>\n",
       "      <td>other</td>\n",
       "      <td>good</td>\n",
       "      <td>6 cylinders</td>\n",
       "      <td>gas</td>\n",
       "      <td>47000.0</td>\n",
       "      <td>manual</td>\n",
       "      <td>rwd</td>\n",
       "      <td>full-size</td>\n",
       "      <td>pickup</td>\n",
       "      <td>55.0</td>\n",
       "    </tr>\n",
       "    <tr>\n",
       "      <th>4</th>\n",
       "      <td>4000</td>\n",
       "      <td>jeep</td>\n",
       "      <td>good</td>\n",
       "      <td>6 cylinders</td>\n",
       "      <td>gas</td>\n",
       "      <td>281000.0</td>\n",
       "      <td>automatic</td>\n",
       "      <td>rwd</td>\n",
       "      <td>mid-size</td>\n",
       "      <td>SUV</td>\n",
       "      <td>15.0</td>\n",
       "    </tr>\n",
       "  </tbody>\n",
       "</table>\n",
       "</div>"
      ],
      "text/plain": [
       "   price manufacturer  condition    cylinders    fuel  odometer transmission  \\\n",
       "0   9500     chrysler  excellent  6 cylinders     gas   30376.0    automatic   \n",
       "1  18250       toyota       good  6 cylinders     gas  201300.0       manual   \n",
       "2   6800        other  excellent  6 cylinders  diesel  180000.0    automatic   \n",
       "3   2500        other       good  6 cylinders     gas   47000.0       manual   \n",
       "4   4000         jeep       good  6 cylinders     gas  281000.0    automatic   \n",
       "\n",
       "  drive       size      type   age  \n",
       "0   fwd   mid-size  mini-van  18.0  \n",
       "1   4wd  full-size   offroad  13.0  \n",
       "2   rwd  full-size       bus  16.0  \n",
       "3   rwd  full-size    pickup  55.0  \n",
       "4   rwd   mid-size       SUV  15.0  "
      ]
     },
     "execution_count": 4,
     "metadata": {},
     "output_type": "execute_result"
    }
   ],
   "source": [
    "df.head()"
   ]
  },
  {
   "cell_type": "markdown",
   "metadata": {},
   "source": [
    "### Prepare the dataset"
   ]
  },
  {
   "cell_type": "code",
   "execution_count": 3,
   "metadata": {},
   "outputs": [],
   "source": [
    "from sklearn.preprocessing import LabelEncoder\n",
    "\n",
    "cat_columns = ['manufacturer', 'condition', 'cylinders', 'fuel', 'transmission', 'drive', 'size', 'type']\n",
    "\n",
    "for col in cat_columns:\n",
    "    if col in df.columns:\n",
    "        le = LabelEncoder()\n",
    "        le.fit(list(df[col].astype(str).values))\n",
    "        df[col] = le.transform(list(df[col].astype(str).values))"
   ]
  },
  {
   "cell_type": "markdown",
   "metadata": {},
   "source": [
    "I used the label encoder rather than dummy to get simpler model with the least features in the model, cause in the data the categorical column ratio is 8 out of 10. I can also use dummy with the same result, but its increase the computational cost."
   ]
  },
  {
   "cell_type": "code",
   "execution_count": 6,
   "metadata": {},
   "outputs": [
    {
     "data": {
      "text/html": [
       "<div>\n",
       "<style scoped>\n",
       "    .dataframe tbody tr th:only-of-type {\n",
       "        vertical-align: middle;\n",
       "    }\n",
       "\n",
       "    .dataframe tbody tr th {\n",
       "        vertical-align: top;\n",
       "    }\n",
       "\n",
       "    .dataframe thead th {\n",
       "        text-align: right;\n",
       "    }\n",
       "</style>\n",
       "<table border=\"1\" class=\"dataframe\">\n",
       "  <thead>\n",
       "    <tr style=\"text-align: right;\">\n",
       "      <th></th>\n",
       "      <th>price</th>\n",
       "      <th>manufacturer</th>\n",
       "      <th>condition</th>\n",
       "      <th>cylinders</th>\n",
       "      <th>fuel</th>\n",
       "      <th>odometer</th>\n",
       "      <th>transmission</th>\n",
       "      <th>drive</th>\n",
       "      <th>size</th>\n",
       "      <th>type</th>\n",
       "      <th>age</th>\n",
       "    </tr>\n",
       "  </thead>\n",
       "  <tbody>\n",
       "    <tr>\n",
       "      <th>0</th>\n",
       "      <td>9500</td>\n",
       "      <td>8</td>\n",
       "      <td>0</td>\n",
       "      <td>5</td>\n",
       "      <td>2</td>\n",
       "      <td>30376.0</td>\n",
       "      <td>0</td>\n",
       "      <td>1</td>\n",
       "      <td>2</td>\n",
       "      <td>5</td>\n",
       "      <td>18.0</td>\n",
       "    </tr>\n",
       "    <tr>\n",
       "      <th>1</th>\n",
       "      <td>18250</td>\n",
       "      <td>39</td>\n",
       "      <td>2</td>\n",
       "      <td>5</td>\n",
       "      <td>2</td>\n",
       "      <td>201300.0</td>\n",
       "      <td>1</td>\n",
       "      <td>0</td>\n",
       "      <td>1</td>\n",
       "      <td>6</td>\n",
       "      <td>13.0</td>\n",
       "    </tr>\n",
       "    <tr>\n",
       "      <th>2</th>\n",
       "      <td>6800</td>\n",
       "      <td>31</td>\n",
       "      <td>0</td>\n",
       "      <td>5</td>\n",
       "      <td>0</td>\n",
       "      <td>180000.0</td>\n",
       "      <td>0</td>\n",
       "      <td>2</td>\n",
       "      <td>1</td>\n",
       "      <td>1</td>\n",
       "      <td>16.0</td>\n",
       "    </tr>\n",
       "    <tr>\n",
       "      <th>3</th>\n",
       "      <td>2500</td>\n",
       "      <td>31</td>\n",
       "      <td>2</td>\n",
       "      <td>5</td>\n",
       "      <td>2</td>\n",
       "      <td>47000.0</td>\n",
       "      <td>1</td>\n",
       "      <td>2</td>\n",
       "      <td>1</td>\n",
       "      <td>8</td>\n",
       "      <td>55.0</td>\n",
       "    </tr>\n",
       "    <tr>\n",
       "      <th>4</th>\n",
       "      <td>4000</td>\n",
       "      <td>19</td>\n",
       "      <td>2</td>\n",
       "      <td>5</td>\n",
       "      <td>2</td>\n",
       "      <td>281000.0</td>\n",
       "      <td>0</td>\n",
       "      <td>2</td>\n",
       "      <td>2</td>\n",
       "      <td>0</td>\n",
       "      <td>15.0</td>\n",
       "    </tr>\n",
       "  </tbody>\n",
       "</table>\n",
       "</div>"
      ],
      "text/plain": [
       "   price  manufacturer  condition  cylinders  fuel  odometer  transmission  \\\n",
       "0   9500             8          0          5     2   30376.0             0   \n",
       "1  18250            39          2          5     2  201300.0             1   \n",
       "2   6800            31          0          5     0  180000.0             0   \n",
       "3   2500            31          2          5     2   47000.0             1   \n",
       "4   4000            19          2          5     2  281000.0             0   \n",
       "\n",
       "   drive  size  type   age  \n",
       "0      1     2     5  18.0  \n",
       "1      0     1     6  13.0  \n",
       "2      2     1     1  16.0  \n",
       "3      2     1     8  55.0  \n",
       "4      2     2     0  15.0  "
      ]
     },
     "execution_count": 6,
     "metadata": {},
     "output_type": "execute_result"
    }
   ],
   "source": [
    "df.head()"
   ]
  },
  {
   "cell_type": "code",
   "execution_count": 4,
   "metadata": {},
   "outputs": [],
   "source": [
    "y = df['price']\n",
    "X = df.drop(columns='price')"
   ]
  },
  {
   "cell_type": "code",
   "execution_count": 5,
   "metadata": {},
   "outputs": [],
   "source": [
    "from sklearn.preprocessing import StandardScaler\n",
    "scaler = StandardScaler()\n",
    "X = scaler.fit_transform(X)"
   ]
  },
  {
   "cell_type": "code",
   "execution_count": 6,
   "metadata": {},
   "outputs": [],
   "source": [
    "from sklearn.model_selection import train_test_split\n",
    "X_train, X_test, y_train, y_test = train_test_split(X, y, test_size=0.20, random_state=42)"
   ]
  },
  {
   "cell_type": "markdown",
   "metadata": {},
   "source": [
    "### Compare the regression models"
   ]
  },
  {
   "cell_type": "markdown",
   "metadata": {},
   "source": [
    "I compare some regression algorithm to get the basic idea of the idea of how is the model behave on the default parameters on the algorithms. here I choose the top 3 algorithms"
   ]
  },
  {
   "cell_type": "code",
   "execution_count": null,
   "metadata": {},
   "outputs": [],
   "source": [
    "def model_selection(X_train, y_train, X_test, y_test, models):\n",
    "    \n",
    "    from sklearn.metrics import max_error, mean_absolute_error, mean_squared_error, r2_score\n",
    "    \n",
    "    R2_result = []\n",
    "    MSE_result = []\n",
    "    str_models = []\n",
    "    \n",
    "    for model in models:\n",
    "        model.fit(X_train, y_train)\n",
    "        y_pred = model.predict(X_test)\n",
    "        MSE = mean_squared_error(y_test, y_pred)\n",
    "        R2 = r2_score(y_test, y_pred)       \n",
    "        R2_result.append(R2)\n",
    "        MSE_result.append(MSE)  \n",
    "        str_models.append(str(model))\n",
    "    \n",
    "    fig, (ax1, ax2) = plt.subplots(2, 1, figsize=(10,10))\n",
    "\n",
    "    ax1.plot(R2_result)\n",
    "    ax1.set_ylabel('R2_score')\n",
    "\n",
    "\n",
    "    ax2.plot(str_models,np.sqrt(MSE_result))\n",
    "    ax2.set_ylabel('RMSE_result')\n",
    "    ax2.set_xticklabels(str_models, rotation=90)\n",
    "    plt.tight_layout()\n",
    "    \n",
    "    return pd.DataFrame({'models':models, 'R2':R2_result, 'RMSE':np.sqrt(MSE_result)}) "
   ]
  },
  {
   "cell_type": "markdown",
   "metadata": {},
   "source": [
    "https://github.com/codebasics/py/blob/master/ML/15_gridsearch/15_grid_search.ipynb\n",
    "https://github.com/justmarkham/scikit-learn-videos/blob/master/08_grid_search.ipynb"
   ]
  },
  {
   "cell_type": "code",
   "execution_count": 7,
   "metadata": {},
   "outputs": [],
   "source": [
    "from sklearn.linear_model import LinearRegression\n",
    "from sklearn.linear_model import Ridge\n",
    "from sklearn.linear_model import Lasso\n",
    "from sklearn.linear_model import BayesianRidge\n",
    "from sklearn.svm import SVR\n",
    "from sklearn.neighbors import KNeighborsRegressor\n",
    "from sklearn.gaussian_process import GaussianProcessRegressor\n",
    "from sklearn.tree import DecisionTreeRegressor\n",
    "from sklearn.ensemble import BaggingRegressor\n",
    "from sklearn.ensemble import RandomForestRegressor\n",
    "from sklearn.ensemble import AdaBoostRegressor\n",
    "from sklearn.ensemble import GradientBoostingRegressor\n",
    "from sklearn.experimental import enable_hist_gradient_boosting\n",
    "from sklearn.ensemble import HistGradientBoostingRegressor\n",
    "from sklearn.neural_network import MLPRegressor\n",
    "from xgboost import XGBRegressor"
   ]
  },
  {
   "cell_type": "code",
   "execution_count": 30,
   "metadata": {},
   "outputs": [
    {
     "data": {
      "text/html": [
       "<div>\n",
       "<style scoped>\n",
       "    .dataframe tbody tr th:only-of-type {\n",
       "        vertical-align: middle;\n",
       "    }\n",
       "\n",
       "    .dataframe tbody tr th {\n",
       "        vertical-align: top;\n",
       "    }\n",
       "\n",
       "    .dataframe thead th {\n",
       "        text-align: right;\n",
       "    }\n",
       "</style>\n",
       "<table border=\"1\" class=\"dataframe\">\n",
       "  <thead>\n",
       "    <tr style=\"text-align: right;\">\n",
       "      <th></th>\n",
       "      <th>models</th>\n",
       "      <th>R2</th>\n",
       "      <th>RMSE</th>\n",
       "    </tr>\n",
       "  </thead>\n",
       "  <tbody>\n",
       "    <tr>\n",
       "      <th>0</th>\n",
       "      <td>LinearRegression()</td>\n",
       "      <td>0.204244</td>\n",
       "      <td>8008.263122</td>\n",
       "    </tr>\n",
       "    <tr>\n",
       "      <th>1</th>\n",
       "      <td>Ridge()</td>\n",
       "      <td>0.204246</td>\n",
       "      <td>8008.256016</td>\n",
       "    </tr>\n",
       "    <tr>\n",
       "      <th>2</th>\n",
       "      <td>Lasso()</td>\n",
       "      <td>0.204286</td>\n",
       "      <td>8008.052592</td>\n",
       "    </tr>\n",
       "    <tr>\n",
       "      <th>3</th>\n",
       "      <td>BayesianRidge()</td>\n",
       "      <td>0.204284</td>\n",
       "      <td>8008.062836</td>\n",
       "    </tr>\n",
       "    <tr>\n",
       "      <th>4</th>\n",
       "      <td>SVR()</td>\n",
       "      <td>0.001867</td>\n",
       "      <td>8968.972933</td>\n",
       "    </tr>\n",
       "    <tr>\n",
       "      <th>5</th>\n",
       "      <td>KNeighborsRegressor()</td>\n",
       "      <td>0.705696</td>\n",
       "      <td>4870.194552</td>\n",
       "    </tr>\n",
       "    <tr>\n",
       "      <th>6</th>\n",
       "      <td>DecisionTreeRegressor()</td>\n",
       "      <td>0.602034</td>\n",
       "      <td>5663.325346</td>\n",
       "    </tr>\n",
       "    <tr>\n",
       "      <th>7</th>\n",
       "      <td>(DecisionTreeRegressor(random_state=54351094),...</td>\n",
       "      <td>0.753165</td>\n",
       "      <td>4460.172915</td>\n",
       "    </tr>\n",
       "    <tr>\n",
       "      <th>8</th>\n",
       "      <td>(DecisionTreeRegressor(max_features='auto', ra...</td>\n",
       "      <td>0.775639</td>\n",
       "      <td>4252.281842</td>\n",
       "    </tr>\n",
       "    <tr>\n",
       "      <th>9</th>\n",
       "      <td>(DecisionTreeRegressor(max_depth=3, random_sta...</td>\n",
       "      <td>0.198091</td>\n",
       "      <td>8039.168641</td>\n",
       "    </tr>\n",
       "    <tr>\n",
       "      <th>10</th>\n",
       "      <td>([DecisionTreeRegressor(criterion='friedman_ms...</td>\n",
       "      <td>0.744459</td>\n",
       "      <td>4538.153285</td>\n",
       "    </tr>\n",
       "    <tr>\n",
       "      <th>11</th>\n",
       "      <td>HistGradientBoostingRegressor()</td>\n",
       "      <td>0.793786</td>\n",
       "      <td>4076.689222</td>\n",
       "    </tr>\n",
       "    <tr>\n",
       "      <th>12</th>\n",
       "      <td>MLPRegressor()</td>\n",
       "      <td>0.671564</td>\n",
       "      <td>5144.862801</td>\n",
       "    </tr>\n",
       "    <tr>\n",
       "      <th>13</th>\n",
       "      <td>XGBRegressor(base_score=0.5, booster='gbtree',...</td>\n",
       "      <td>0.799761</td>\n",
       "      <td>4017.192503</td>\n",
       "    </tr>\n",
       "  </tbody>\n",
       "</table>\n",
       "</div>"
      ],
      "text/plain": [
       "                                               models        R2         RMSE\n",
       "0                                  LinearRegression()  0.204244  8008.263122\n",
       "1                                             Ridge()  0.204246  8008.256016\n",
       "2                                             Lasso()  0.204286  8008.052592\n",
       "3                                     BayesianRidge()  0.204284  8008.062836\n",
       "4                                               SVR()  0.001867  8968.972933\n",
       "5                               KNeighborsRegressor()  0.705696  4870.194552\n",
       "6                             DecisionTreeRegressor()  0.602034  5663.325346\n",
       "7   (DecisionTreeRegressor(random_state=54351094),...  0.753165  4460.172915\n",
       "8   (DecisionTreeRegressor(max_features='auto', ra...  0.775639  4252.281842\n",
       "9   (DecisionTreeRegressor(max_depth=3, random_sta...  0.198091  8039.168641\n",
       "10  ([DecisionTreeRegressor(criterion='friedman_ms...  0.744459  4538.153285\n",
       "11                    HistGradientBoostingRegressor()  0.793786  4076.689222\n",
       "12                                     MLPRegressor()  0.671564  5144.862801\n",
       "13  XGBRegressor(base_score=0.5, booster='gbtree',...  0.799761  4017.192503"
      ]
     },
     "execution_count": 30,
     "metadata": {},
     "output_type": "execute_result"
    },
    {
     "data": {
      "image/png": "[encoded data removed]",
      "text/plain": [
       "<Figure size 720x720 with 2 Axes>"
      ]
     },
     "metadata": {
      "needs_background": "light"
     },
     "output_type": "display_data"
    }
   ],
   "source": [
    "models = [LinearRegression(), Ridge(), Lasso(), BayesianRidge(), SVR(), KNeighborsRegressor(),\n",
    "          DecisionTreeRegressor(), BaggingRegressor(), RandomForestRegressor(), AdaBoostRegressor(), GradientBoostingRegressor(),\n",
    "          HistGradientBoostingRegressor(), MLPRegressor(), XGBRegressor()]\n",
    "\n",
    "model_selection(X_train, y_train, X_test, y_test, models)   "
   ]
  },
  {
   "cell_type": "markdown",
   "metadata": {},
   "source": [
    "### Cross Validation for the best model in model comparasion"
   ]
  },
  {
   "cell_type": "code",
   "execution_count": 25,
   "metadata": {},
   "outputs": [],
   "source": [
    "def acc_CV(model, X, y):\n",
    "    from sklearn.model_selection import cross_val_score\n",
    "\n",
    "    accuracies = cross_val_score(estimator = model, X= X, y=y,  cv=10)\n",
    "    accuracies.mean()\n",
    "    accuracies.std()\n",
    "    print('akurasi  {:.2f}% +/- {:.2f}%' .format(accuracies.mean()*100, accuracies.std()*100))"
   ]
  },
  {
   "cell_type": "code",
   "execution_count": 8,
   "metadata": {},
   "outputs": [],
   "source": [
    "rf = RandomForestRegressor()\n",
    "HGB = HistGradientBoostingRegressor()\n",
    "XGB = XGBRegressor()"
   ]
  },
  {
   "cell_type": "code",
   "execution_count": 16,
   "metadata": {},
   "outputs": [
    {
     "name": "stdout",
     "output_type": "stream",
     "text": [
      "akurasi  77.36% +/- 1.02%\n"
     ]
    }
   ],
   "source": [
    "acc_CV(rf, X_train, y_train)"
   ]
  },
  {
   "cell_type": "code",
   "execution_count": 35,
   "metadata": {},
   "outputs": [
    {
     "name": "stdout",
     "output_type": "stream",
     "text": [
      "akurasi  79.11% +/- 1.04%\n"
     ]
    }
   ],
   "source": [
    "acc_CV(HGB, X_train, y_train)"
   ]
  },
  {
   "cell_type": "code",
   "execution_count": 33,
   "metadata": {},
   "outputs": [
    {
     "name": "stdout",
     "output_type": "stream",
     "text": [
      "akurasi  79.43% +/- 1.05%\n"
     ]
    }
   ],
   "source": [
    "acc_CV(XGB, X_train, y_train)"
   ]
  },
  {
   "cell_type": "markdown",
   "metadata": {},
   "source": [
    "## Random Forest model"
   ]
  },
  {
   "cell_type": "markdown",
   "metadata": {},
   "source": [
    "### Feature importances in the model"
   ]
  },
  {
   "cell_type": "code",
   "execution_count": 38,
   "metadata": {},
   "outputs": [
    {
     "data": {
      "text/plain": [
       "Text(0.5, 1.0, 'Feature Importances')"
      ]
     },
     "execution_count": 38,
     "metadata": {},
     "output_type": "execute_result"
    },
    {
     "data": {
      "image/png": "[encoded data removed]",
      "text/plain": [
       "<Figure size 576x576 with 1 Axes>"
      ]
     },
     "metadata": {
      "needs_background": "light"
     },
     "output_type": "display_data"
    }
   ],
   "source": [
    "tree_feature =  pd.Series(rf.feature_importances_, df.drop(columns='price').columns).sort_values(ascending = True)\n",
    "plt.figure(figsize = (8,8))\n",
    "plt.barh(df.drop(columns='price').columns, tree_feature)\n",
    "plt.xlabel('Mean Impurity Reduction', fontsize = 12)\n",
    "plt.ylabel('Features', fontsize = 12)\n",
    "plt.yticks(fontsize = 12)\n",
    "plt.title('Feature Importances', fontsize = 20)"
   ]
  },
  {
   "cell_type": "markdown",
   "metadata": {},
   "source": [
    "### Iterate the process"
   ]
  },
  {
   "cell_type": "markdown",
   "metadata": {},
   "source": [
    "Iterate the process of the designing the features of the data to get more accuracy in the model"
   ]
  },
  {
   "cell_type": "markdown",
   "metadata": {},
   "source": [
    "https://medium.com/purwadhikaconnect/metode-feature-importance-dalam-data-science-yang-perlu-kamu-ketahui-6b4f35db6476"
   ]
  },
  {
   "cell_type": "markdown",
   "metadata": {},
   "source": [
    "### Tuning using GridSearchCV per parameters"
   ]
  },
  {
   "cell_type": "code",
   "execution_count": 10,
   "metadata": {},
   "outputs": [],
   "source": [
    "def tuning_param(X, y, model, parameters):\n",
    "    \n",
    "    from sklearn.model_selection import GridSearchCV   \n",
    "        \n",
    "    scores = []\n",
    "   \n",
    "    fig, axs = plt.subplots(len(parameters))\n",
    "    k = 0   \n",
    "    for parameter in parameters:\n",
    "        \n",
    "        clf = GridSearchCV(estimator = model, param_grid = parameter, cv=3, scoring='r2', n_jobs=-1)\n",
    "        clf.fit(X, y)\n",
    "        \n",
    "\n",
    "        for name_param, val_param in parameter.items():\n",
    "            \n",
    "            grid_mean_scores = clf.cv_results_['mean_test_score']\n",
    "\n",
    "            if len(parameters) == 1:\n",
    "               axs.plot(val_param, grid_mean_scores)\n",
    "               axs.set_xlabel(name_param)\n",
    "               axs.set_ylabel('R2') \n",
    "            \n",
    "            else:\n",
    "                axs[k].plot(val_param, grid_mean_scores)\n",
    "                axs[k].set_xlabel(name_param)\n",
    "                axs[k].set_ylabel('R2')\n",
    "                \n",
    "                k+=1\n",
    "            \n",
    "            \n",
    "        scores.append({'parameter':name_param,\n",
    "                       'best_R2':clf.best_score_,\n",
    "                       'best_value':clf.best_params_})\n",
    "            \n",
    "    plt.tight_layout()       \n",
    "    return pd.DataFrame(scores, columns=['parameter', 'best_R2', 'best_value'])"
   ]
  },
  {
   "cell_type": "code",
   "execution_count": null,
   "metadata": {},
   "outputs": [],
   "source": [
    "parameters = [{'n_estimators': np.arange(100, 200, 10)}, {'max_features':['auto', 'sqrt']}, \n",
    "              {'max_depth':np.arange(10,250, 10)}, {'min_samples_split':np.arange(1, 5, 1)}, \n",
    "             {'min_samples_leaf':np.arange(1,5,1)}]\n",
    "tuning_param(X_train, y_train, rf, parameters)"
   ]
  },
  {
   "cell_type": "markdown",
   "metadata": {},
   "source": [
    "it can calculate in one time using those code above, but because computational reason here i am using one parameter for one code."
   ]
  },
  {
   "cell_type": "code",
   "execution_count": 24,
   "metadata": {},
   "outputs": [
    {
     "data": {
      "text/html": [
       "<div>\n",
       "<style scoped>\n",
       "    .dataframe tbody tr th:only-of-type {\n",
       "        vertical-align: middle;\n",
       "    }\n",
       "\n",
       "    .dataframe tbody tr th {\n",
       "        vertical-align: top;\n",
       "    }\n",
       "\n",
       "    .dataframe thead th {\n",
       "        text-align: right;\n",
       "    }\n",
       "</style>\n",
       "<table border=\"1\" class=\"dataframe\">\n",
       "  <thead>\n",
       "    <tr style=\"text-align: right;\">\n",
       "      <th></th>\n",
       "      <th>parameter</th>\n",
       "      <th>best_R2</th>\n",
       "      <th>best_value</th>\n",
       "    </tr>\n",
       "  </thead>\n",
       "  <tbody>\n",
       "    <tr>\n",
       "      <th>0</th>\n",
       "      <td>n_estimators</td>\n",
       "      <td>0.767367</td>\n",
       "      <td>{'n_estimators': 450}</td>\n",
       "    </tr>\n",
       "  </tbody>\n",
       "</table>\n",
       "</div>"
      ],
      "text/plain": [
       "      parameter   best_R2             best_value\n",
       "0  n_estimators  0.767367  {'n_estimators': 450}"
      ]
     },
     "execution_count": 24,
     "metadata": {},
     "output_type": "execute_result"
    },
    {
     "data": {
      "image/png": "[encoded data removed]",
      "text/plain": [
       "<Figure size 432x288 with 1 Axes>"
      ]
     },
     "metadata": {
      "needs_background": "light"
     },
     "output_type": "display_data"
    }
   ],
   "source": [
    "tuning_param(X_train, y_train, rf, [{'n_estimators': np.arange(100, 510, 10)}])"
   ]
  },
  {
   "cell_type": "code",
   "execution_count": 34,
   "metadata": {},
   "outputs": [
    {
     "data": {
      "text/html": [
       "<div>\n",
       "<style scoped>\n",
       "    .dataframe tbody tr th:only-of-type {\n",
       "        vertical-align: middle;\n",
       "    }\n",
       "\n",
       "    .dataframe tbody tr th {\n",
       "        vertical-align: top;\n",
       "    }\n",
       "\n",
       "    .dataframe thead th {\n",
       "        text-align: right;\n",
       "    }\n",
       "</style>\n",
       "<table border=\"1\" class=\"dataframe\">\n",
       "  <thead>\n",
       "    <tr style=\"text-align: right;\">\n",
       "      <th></th>\n",
       "      <th>parameter</th>\n",
       "      <th>best_R2</th>\n",
       "      <th>best_value</th>\n",
       "    </tr>\n",
       "  </thead>\n",
       "  <tbody>\n",
       "    <tr>\n",
       "      <th>0</th>\n",
       "      <td>n_estimators</td>\n",
       "      <td>0.767489</td>\n",
       "      <td>{'n_estimators': 740}</td>\n",
       "    </tr>\n",
       "  </tbody>\n",
       "</table>\n",
       "</div>"
      ],
      "text/plain": [
       "      parameter   best_R2             best_value\n",
       "0  n_estimators  0.767489  {'n_estimators': 740}"
      ]
     },
     "execution_count": 34,
     "metadata": {},
     "output_type": "execute_result"
    },
    {
     "data": {
      "image/png": "[encoded data removed]",
      "text/plain": [
       "<Figure size 432x288 with 1 Axes>"
      ]
     },
     "metadata": {
      "needs_background": "light"
     },
     "output_type": "display_data"
    }
   ],
   "source": [
    "tuning_param(X_train, y_train, rf, [{'n_estimators': np.arange(510, 1010, 10)}])"
   ]
  },
  {
   "cell_type": "code",
   "execution_count": 31,
   "metadata": {},
   "outputs": [
    {
     "data": {
      "text/html": [
       "<div>\n",
       "<style scoped>\n",
       "    .dataframe tbody tr th:only-of-type {\n",
       "        vertical-align: middle;\n",
       "    }\n",
       "\n",
       "    .dataframe tbody tr th {\n",
       "        vertical-align: top;\n",
       "    }\n",
       "\n",
       "    .dataframe thead th {\n",
       "        text-align: right;\n",
       "    }\n",
       "</style>\n",
       "<table border=\"1\" class=\"dataframe\">\n",
       "  <thead>\n",
       "    <tr style=\"text-align: right;\">\n",
       "      <th></th>\n",
       "      <th>parameter</th>\n",
       "      <th>best_R2</th>\n",
       "      <th>best_value</th>\n",
       "    </tr>\n",
       "  </thead>\n",
       "  <tbody>\n",
       "    <tr>\n",
       "      <th>0</th>\n",
       "      <td>min_samples_split</td>\n",
       "      <td>0.770455</td>\n",
       "      <td>{'min_samples_split': 11}</td>\n",
       "    </tr>\n",
       "  </tbody>\n",
       "</table>\n",
       "</div>"
      ],
      "text/plain": [
       "           parameter   best_R2                 best_value\n",
       "0  min_samples_split  0.770455  {'min_samples_split': 11}"
      ]
     },
     "execution_count": 31,
     "metadata": {},
     "output_type": "execute_result"
    },
    {
     "data": {
      "image/png": "[encoded data removed]",
      "text/plain": [
       "<Figure size 432x288 with 1 Axes>"
      ]
     },
     "metadata": {
      "needs_background": "light"
     },
     "output_type": "display_data"
    }
   ],
   "source": [
    "tuning_param(X_train, y_train, rf, [{'min_samples_split':np.arange(1, 25, 1)}])"
   ]
  },
  {
   "cell_type": "code",
   "execution_count": 32,
   "metadata": {},
   "outputs": [
    {
     "data": {
      "text/html": [
       "<div>\n",
       "<style scoped>\n",
       "    .dataframe tbody tr th:only-of-type {\n",
       "        vertical-align: middle;\n",
       "    }\n",
       "\n",
       "    .dataframe tbody tr th {\n",
       "        vertical-align: top;\n",
       "    }\n",
       "\n",
       "    .dataframe thead th {\n",
       "        text-align: right;\n",
       "    }\n",
       "</style>\n",
       "<table border=\"1\" class=\"dataframe\">\n",
       "  <thead>\n",
       "    <tr style=\"text-align: right;\">\n",
       "      <th></th>\n",
       "      <th>parameter</th>\n",
       "      <th>best_R2</th>\n",
       "      <th>best_value</th>\n",
       "    </tr>\n",
       "  </thead>\n",
       "  <tbody>\n",
       "    <tr>\n",
       "      <th>0</th>\n",
       "      <td>min_samples_leaf</td>\n",
       "      <td>0.767345</td>\n",
       "      <td>{'min_samples_leaf': 3}</td>\n",
       "    </tr>\n",
       "  </tbody>\n",
       "</table>\n",
       "</div>"
      ],
      "text/plain": [
       "          parameter   best_R2               best_value\n",
       "0  min_samples_leaf  0.767345  {'min_samples_leaf': 3}"
      ]
     },
     "execution_count": 32,
     "metadata": {},
     "output_type": "execute_result"
    },
    {
     "data": {
      "image/png": "[encoded data removed]",
      "text/plain": [
       "<Figure size 432x288 with 1 Axes>"
      ]
     },
     "metadata": {
      "needs_background": "light"
     },
     "output_type": "display_data"
    }
   ],
   "source": [
    "tuning_param(X_train, y_train, rf, [{'min_samples_leaf':np.arange(1, 10, 1)}])"
   ]
  },
  {
   "cell_type": "code",
   "execution_count": 33,
   "metadata": {},
   "outputs": [
    {
     "data": {
      "text/html": [
       "<div>\n",
       "<style scoped>\n",
       "    .dataframe tbody tr th:only-of-type {\n",
       "        vertical-align: middle;\n",
       "    }\n",
       "\n",
       "    .dataframe tbody tr th {\n",
       "        vertical-align: top;\n",
       "    }\n",
       "\n",
       "    .dataframe thead th {\n",
       "        text-align: right;\n",
       "    }\n",
       "</style>\n",
       "<table border=\"1\" class=\"dataframe\">\n",
       "  <thead>\n",
       "    <tr style=\"text-align: right;\">\n",
       "      <th></th>\n",
       "      <th>parameter</th>\n",
       "      <th>best_R2</th>\n",
       "      <th>best_value</th>\n",
       "    </tr>\n",
       "  </thead>\n",
       "  <tbody>\n",
       "    <tr>\n",
       "      <th>0</th>\n",
       "      <td>max_depth</td>\n",
       "      <td>0.766404</td>\n",
       "      <td>{'max_depth': 170}</td>\n",
       "    </tr>\n",
       "  </tbody>\n",
       "</table>\n",
       "</div>"
      ],
      "text/plain": [
       "   parameter   best_R2          best_value\n",
       "0  max_depth  0.766404  {'max_depth': 170}"
      ]
     },
     "execution_count": 33,
     "metadata": {},
     "output_type": "execute_result"
    },
    {
     "data": {
      "image/png": "[encoded data removed]",
      "text/plain": [
       "<Figure size 432x288 with 1 Axes>"
      ]
     },
     "metadata": {
      "needs_background": "light"
     },
     "output_type": "display_data"
    }
   ],
   "source": [
    "tuning_param(X_train, y_train, rf, [{'max_depth':np.arange(10,250, 10)}])"
   ]
  },
  {
   "cell_type": "code",
   "execution_count": 11,
   "metadata": {},
   "outputs": [
    {
     "data": {
      "text/html": [
       "<div>\n",
       "<style scoped>\n",
       "    .dataframe tbody tr th:only-of-type {\n",
       "        vertical-align: middle;\n",
       "    }\n",
       "\n",
       "    .dataframe tbody tr th {\n",
       "        vertical-align: top;\n",
       "    }\n",
       "\n",
       "    .dataframe thead th {\n",
       "        text-align: right;\n",
       "    }\n",
       "</style>\n",
       "<table border=\"1\" class=\"dataframe\">\n",
       "  <thead>\n",
       "    <tr style=\"text-align: right;\">\n",
       "      <th></th>\n",
       "      <th>parameter</th>\n",
       "      <th>best_R2</th>\n",
       "      <th>best_value</th>\n",
       "    </tr>\n",
       "  </thead>\n",
       "  <tbody>\n",
       "    <tr>\n",
       "      <th>0</th>\n",
       "      <td>max_features</td>\n",
       "      <td>0.777653</td>\n",
       "      <td>{'max_features': 'sqrt'}</td>\n",
       "    </tr>\n",
       "  </tbody>\n",
       "</table>\n",
       "</div>"
      ],
      "text/plain": [
       "      parameter   best_R2                best_value\n",
       "0  max_features  0.777653  {'max_features': 'sqrt'}"
      ]
     },
     "execution_count": 11,
     "metadata": {},
     "output_type": "execute_result"
    },
    {
     "data": {
      "image/png": "[encoded data removed]",
      "text/plain": [
       "<Figure size 432x288 with 1 Axes>"
      ]
     },
     "metadata": {
      "needs_background": "light"
     },
     "output_type": "display_data"
    }
   ],
   "source": [
    "tuning_param(X_train, y_train, rf, [{'max_features':['auto', 'sqrt']}])"
   ]
  },
  {
   "cell_type": "markdown",
   "metadata": {},
   "source": [
    "### Hyperparameter using RandomizedsearchCV for wide range analysis"
   ]
  },
  {
   "cell_type": "code",
   "execution_count": 16,
   "metadata": {},
   "outputs": [],
   "source": [
    "def model_randomCV(X, y, model, parameters):\n",
    "    \n",
    "    from sklearn.model_selection import RandomizedSearchCV\n",
    "    \n",
    "    randCV = RandomizedSearchCV(estimator=model, param_distributions=parameters, n_jobs=-1, cv=5)\n",
    "    \n",
    "    randCV.fit(X, y)\n",
    "   \n",
    "    print('best_parameters: ' + str(randCV.best_params_))\n",
    "    print('best_score: ' + str(randCV.best_score_))\n",
    "    print('best_estimator: ' + str(randCV.best_estimator_))    \n",
    "    \n",
    "    return pd.DataFrame(randCV.cv_results_).sort_values(by='rank_test_score')"
   ]
  },
  {
   "cell_type": "code",
   "execution_count": 17,
   "metadata": {},
   "outputs": [
    {
     "name": "stdout",
     "output_type": "stream",
     "text": [
      "best_parameters: {'n_estimators': 190, 'min_samples_split': 13, 'min_samples_leaf': 1, 'max_features': 'sqrt', 'max_depth': 190}\n",
      "best_score: 0.7815388659752746\n",
      "best_estimator: RandomForestRegressor(max_depth=190, max_features='sqrt', min_samples_split=13,\n",
      "                      n_estimators=190)\n"
     ]
    },
    {
     "data": {
      "text/html": [
       "<div>\n",
       "<style scoped>\n",
       "    .dataframe tbody tr th:only-of-type {\n",
       "        vertical-align: middle;\n",
       "    }\n",
       "\n",
       "    .dataframe tbody tr th {\n",
       "        vertical-align: top;\n",
       "    }\n",
       "\n",
       "    .dataframe thead th {\n",
       "        text-align: right;\n",
       "    }\n",
       "</style>\n",
       "<table border=\"1\" class=\"dataframe\">\n",
       "  <thead>\n",
       "    <tr style=\"text-align: right;\">\n",
       "      <th></th>\n",
       "      <th>mean_fit_time</th>\n",
       "      <th>std_fit_time</th>\n",
       "      <th>mean_score_time</th>\n",
       "      <th>std_score_time</th>\n",
       "      <th>param_n_estimators</th>\n",
       "      <th>param_min_samples_split</th>\n",
       "      <th>param_min_samples_leaf</th>\n",
       "      <th>param_max_features</th>\n",
       "      <th>param_max_depth</th>\n",
       "      <th>params</th>\n",
       "      <th>split0_test_score</th>\n",
       "      <th>split1_test_score</th>\n",
       "      <th>split2_test_score</th>\n",
       "      <th>split3_test_score</th>\n",
       "      <th>split4_test_score</th>\n",
       "      <th>mean_test_score</th>\n",
       "      <th>std_test_score</th>\n",
       "      <th>rank_test_score</th>\n",
       "    </tr>\n",
       "  </thead>\n",
       "  <tbody>\n",
       "    <tr>\n",
       "      <th>1</th>\n",
       "      <td>23.428801</td>\n",
       "      <td>0.494140</td>\n",
       "      <td>1.102002</td>\n",
       "      <td>0.059244</td>\n",
       "      <td>190</td>\n",
       "      <td>13</td>\n",
       "      <td>1</td>\n",
       "      <td>sqrt</td>\n",
       "      <td>190</td>\n",
       "      <td>{'n_estimators': 190, 'min_samples_split': 13,...</td>\n",
       "      <td>0.781238</td>\n",
       "      <td>0.791067</td>\n",
       "      <td>0.777767</td>\n",
       "      <td>0.772742</td>\n",
       "      <td>0.784880</td>\n",
       "      <td>0.781539</td>\n",
       "      <td>0.006223</td>\n",
       "      <td>1</td>\n",
       "    </tr>\n",
       "    <tr>\n",
       "      <th>4</th>\n",
       "      <td>18.548200</td>\n",
       "      <td>0.369261</td>\n",
       "      <td>0.863801</td>\n",
       "      <td>0.080457</td>\n",
       "      <td>150</td>\n",
       "      <td>10</td>\n",
       "      <td>2</td>\n",
       "      <td>sqrt</td>\n",
       "      <td>140</td>\n",
       "      <td>{'n_estimators': 150, 'min_samples_split': 10,...</td>\n",
       "      <td>0.779263</td>\n",
       "      <td>0.789218</td>\n",
       "      <td>0.773730</td>\n",
       "      <td>0.770166</td>\n",
       "      <td>0.782614</td>\n",
       "      <td>0.778999</td>\n",
       "      <td>0.006684</td>\n",
       "      <td>2</td>\n",
       "    </tr>\n",
       "    <tr>\n",
       "      <th>8</th>\n",
       "      <td>24.294000</td>\n",
       "      <td>0.162987</td>\n",
       "      <td>1.030401</td>\n",
       "      <td>0.024433</td>\n",
       "      <td>210</td>\n",
       "      <td>12</td>\n",
       "      <td>3</td>\n",
       "      <td>sqrt</td>\n",
       "      <td>200</td>\n",
       "      <td>{'n_estimators': 210, 'min_samples_split': 12,...</td>\n",
       "      <td>0.775296</td>\n",
       "      <td>0.786486</td>\n",
       "      <td>0.771299</td>\n",
       "      <td>0.767708</td>\n",
       "      <td>0.779601</td>\n",
       "      <td>0.776078</td>\n",
       "      <td>0.006546</td>\n",
       "      <td>3</td>\n",
       "    </tr>\n",
       "    <tr>\n",
       "      <th>0</th>\n",
       "      <td>62.529999</td>\n",
       "      <td>0.570965</td>\n",
       "      <td>1.178404</td>\n",
       "      <td>0.071815</td>\n",
       "      <td>190</td>\n",
       "      <td>9</td>\n",
       "      <td>1</td>\n",
       "      <td>auto</td>\n",
       "      <td>180</td>\n",
       "      <td>{'n_estimators': 190, 'min_samples_split': 9, ...</td>\n",
       "      <td>0.773905</td>\n",
       "      <td>0.785781</td>\n",
       "      <td>0.773835</td>\n",
       "      <td>0.765858</td>\n",
       "      <td>0.779732</td>\n",
       "      <td>0.775822</td>\n",
       "      <td>0.006654</td>\n",
       "      <td>4</td>\n",
       "    </tr>\n",
       "    <tr>\n",
       "      <th>5</th>\n",
       "      <td>20.619599</td>\n",
       "      <td>0.094696</td>\n",
       "      <td>0.880201</td>\n",
       "      <td>0.033415</td>\n",
       "      <td>180</td>\n",
       "      <td>13</td>\n",
       "      <td>3</td>\n",
       "      <td>sqrt</td>\n",
       "      <td>190</td>\n",
       "      <td>{'n_estimators': 180, 'min_samples_split': 13,...</td>\n",
       "      <td>0.774034</td>\n",
       "      <td>0.786106</td>\n",
       "      <td>0.770837</td>\n",
       "      <td>0.767349</td>\n",
       "      <td>0.779708</td>\n",
       "      <td>0.775607</td>\n",
       "      <td>0.006641</td>\n",
       "      <td>5</td>\n",
       "    </tr>\n",
       "    <tr>\n",
       "      <th>7</th>\n",
       "      <td>28.772801</td>\n",
       "      <td>0.164034</td>\n",
       "      <td>1.241003</td>\n",
       "      <td>0.018187</td>\n",
       "      <td>250</td>\n",
       "      <td>10</td>\n",
       "      <td>4</td>\n",
       "      <td>sqrt</td>\n",
       "      <td>140</td>\n",
       "      <td>{'n_estimators': 250, 'min_samples_split': 10,...</td>\n",
       "      <td>0.773570</td>\n",
       "      <td>0.784428</td>\n",
       "      <td>0.769221</td>\n",
       "      <td>0.765435</td>\n",
       "      <td>0.777214</td>\n",
       "      <td>0.773974</td>\n",
       "      <td>0.006564</td>\n",
       "      <td>6</td>\n",
       "    </tr>\n",
       "    <tr>\n",
       "      <th>6</th>\n",
       "      <td>58.896398</td>\n",
       "      <td>0.337390</td>\n",
       "      <td>1.057805</td>\n",
       "      <td>0.025547</td>\n",
       "      <td>190</td>\n",
       "      <td>8</td>\n",
       "      <td>4</td>\n",
       "      <td>auto</td>\n",
       "      <td>100</td>\n",
       "      <td>{'n_estimators': 190, 'min_samples_split': 8, ...</td>\n",
       "      <td>0.770839</td>\n",
       "      <td>0.782154</td>\n",
       "      <td>0.768106</td>\n",
       "      <td>0.760745</td>\n",
       "      <td>0.776598</td>\n",
       "      <td>0.771689</td>\n",
       "      <td>0.007307</td>\n",
       "      <td>7</td>\n",
       "    </tr>\n",
       "    <tr>\n",
       "      <th>9</th>\n",
       "      <td>74.100013</td>\n",
       "      <td>6.579778</td>\n",
       "      <td>1.270603</td>\n",
       "      <td>0.215764</td>\n",
       "      <td>250</td>\n",
       "      <td>9</td>\n",
       "      <td>4</td>\n",
       "      <td>auto</td>\n",
       "      <td>190</td>\n",
       "      <td>{'n_estimators': 250, 'min_samples_split': 9, ...</td>\n",
       "      <td>0.770267</td>\n",
       "      <td>0.782652</td>\n",
       "      <td>0.767723</td>\n",
       "      <td>0.760705</td>\n",
       "      <td>0.775699</td>\n",
       "      <td>0.771409</td>\n",
       "      <td>0.007406</td>\n",
       "      <td>8</td>\n",
       "    </tr>\n",
       "    <tr>\n",
       "      <th>2</th>\n",
       "      <td>44.589598</td>\n",
       "      <td>0.242269</td>\n",
       "      <td>0.760804</td>\n",
       "      <td>0.004832</td>\n",
       "      <td>150</td>\n",
       "      <td>9</td>\n",
       "      <td>5</td>\n",
       "      <td>auto</td>\n",
       "      <td>160</td>\n",
       "      <td>{'n_estimators': 150, 'min_samples_split': 9, ...</td>\n",
       "      <td>0.768447</td>\n",
       "      <td>0.780288</td>\n",
       "      <td>0.766362</td>\n",
       "      <td>0.759328</td>\n",
       "      <td>0.774844</td>\n",
       "      <td>0.769854</td>\n",
       "      <td>0.007194</td>\n",
       "      <td>9</td>\n",
       "    </tr>\n",
       "    <tr>\n",
       "      <th>3</th>\n",
       "      <td>56.840200</td>\n",
       "      <td>0.539129</td>\n",
       "      <td>0.980603</td>\n",
       "      <td>0.041285</td>\n",
       "      <td>190</td>\n",
       "      <td>11</td>\n",
       "      <td>5</td>\n",
       "      <td>auto</td>\n",
       "      <td>170</td>\n",
       "      <td>{'n_estimators': 190, 'min_samples_split': 11,...</td>\n",
       "      <td>0.768626</td>\n",
       "      <td>0.780577</td>\n",
       "      <td>0.766664</td>\n",
       "      <td>0.758980</td>\n",
       "      <td>0.774122</td>\n",
       "      <td>0.769794</td>\n",
       "      <td>0.007254</td>\n",
       "      <td>10</td>\n",
       "    </tr>\n",
       "  </tbody>\n",
       "</table>\n",
       "</div>"
      ],
      "text/plain": [
       "   mean_fit_time  std_fit_time  mean_score_time  std_score_time  \\\n",
       "1      23.428801      0.494140         1.102002        0.059244   \n",
       "4      18.548200      0.369261         0.863801        0.080457   \n",
       "8      24.294000      0.162987         1.030401        0.024433   \n",
       "0      62.529999      0.570965         1.178404        0.071815   \n",
       "5      20.619599      0.094696         0.880201        0.033415   \n",
       "7      28.772801      0.164034         1.241003        0.018187   \n",
       "6      58.896398      0.337390         1.057805        0.025547   \n",
       "9      74.100013      6.579778         1.270603        0.215764   \n",
       "2      44.589598      0.242269         0.760804        0.004832   \n",
       "3      56.840200      0.539129         0.980603        0.041285   \n",
       "\n",
       "  param_n_estimators param_min_samples_split param_min_samples_leaf  \\\n",
       "1                190                      13                      1   \n",
       "4                150                      10                      2   \n",
       "8                210                      12                      3   \n",
       "0                190                       9                      1   \n",
       "5                180                      13                      3   \n",
       "7                250                      10                      4   \n",
       "6                190                       8                      4   \n",
       "9                250                       9                      4   \n",
       "2                150                       9                      5   \n",
       "3                190                      11                      5   \n",
       "\n",
       "  param_max_features param_max_depth  \\\n",
       "1               sqrt             190   \n",
       "4               sqrt             140   \n",
       "8               sqrt             200   \n",
       "0               auto             180   \n",
       "5               sqrt             190   \n",
       "7               sqrt             140   \n",
       "6               auto             100   \n",
       "9               auto             190   \n",
       "2               auto             160   \n",
       "3               auto             170   \n",
       "\n",
       "                                              params  split0_test_score  \\\n",
       "1  {'n_estimators': 190, 'min_samples_split': 13,...           0.781238   \n",
       "4  {'n_estimators': 150, 'min_samples_split': 10,...           0.779263   \n",
       "8  {'n_estimators': 210, 'min_samples_split': 12,...           0.775296   \n",
       "0  {'n_estimators': 190, 'min_samples_split': 9, ...           0.773905   \n",
       "5  {'n_estimators': 180, 'min_samples_split': 13,...           0.774034   \n",
       "7  {'n_estimators': 250, 'min_samples_split': 10,...           0.773570   \n",
       "6  {'n_estimators': 190, 'min_samples_split': 8, ...           0.770839   \n",
       "9  {'n_estimators': 250, 'min_samples_split': 9, ...           0.770267   \n",
       "2  {'n_estimators': 150, 'min_samples_split': 9, ...           0.768447   \n",
       "3  {'n_estimators': 190, 'min_samples_split': 11,...           0.768626   \n",
       "\n",
       "   split1_test_score  split2_test_score  split3_test_score  split4_test_score  \\\n",
       "1           0.791067           0.777767           0.772742           0.784880   \n",
       "4           0.789218           0.773730           0.770166           0.782614   \n",
       "8           0.786486           0.771299           0.767708           0.779601   \n",
       "0           0.785781           0.773835           0.765858           0.779732   \n",
       "5           0.786106           0.770837           0.767349           0.779708   \n",
       "7           0.784428           0.769221           0.765435           0.777214   \n",
       "6           0.782154           0.768106           0.760745           0.776598   \n",
       "9           0.782652           0.767723           0.760705           0.775699   \n",
       "2           0.780288           0.766362           0.759328           0.774844   \n",
       "3           0.780577           0.766664           0.758980           0.774122   \n",
       "\n",
       "   mean_test_score  std_test_score  rank_test_score  \n",
       "1         0.781539        0.006223                1  \n",
       "4         0.778999        0.006684                2  \n",
       "8         0.776078        0.006546                3  \n",
       "0         0.775822        0.006654                4  \n",
       "5         0.775607        0.006641                5  \n",
       "7         0.773974        0.006564                6  \n",
       "6         0.771689        0.007307                7  \n",
       "9         0.771409        0.007406                8  \n",
       "2         0.769854        0.007194                9  \n",
       "3         0.769794        0.007254               10  "
      ]
     },
     "execution_count": 17,
     "metadata": {},
     "output_type": "execute_result"
    }
   ],
   "source": [
    "parameters = {'n_estimators': np.arange(150, 260, 10), 'max_features':['auto', 'sqrt'], 'max_depth':np.arange(100,210, 10), \n",
    "             'min_samples_split':np.arange(8, 15, 1), 'min_samples_leaf':np.arange(1,6,1)}\n",
    "\n",
    "model_randomCV(X_train, y_train, rf, parameters)"
   ]
  },
  {
   "cell_type": "markdown",
   "metadata": {},
   "source": [
    "### underfit and overfit check"
   ]
  },
  {
   "cell_type": "markdown",
   "metadata": {},
   "source": [
    "1. Overfitting is when the model’s error on the training set (i.e. during training) is very low but then, the model’s error on the test set (i.e. unseen samples) is large!\n",
    "\n",
    "2. Underfitting is when the model’s error on both the training and test sets (i.e. during training and testing) is very high.\n",
    "\n",
    "https://towardsdatascience.com/is-your-model-overfitting-or-maybe-underfitting-an-example-using-a-neural-network-in-python-4faf155398d2"
   ]
  },
  {
   "cell_type": "code",
   "execution_count": 45,
   "metadata": {},
   "outputs": [],
   "source": [
    "def fit_check(model, kfolds):\n",
    "    \n",
    "    from sklearn.model_selection import KFold\n",
    "    from sklearn.metrics import mean_squared_error\n",
    "    \n",
    "    kf = KFold(n_splits=kfolds)\n",
    "    list_training_error = []\n",
    "    list_testing_error = []\n",
    "    for train_index, test_index in kf.split(X):\n",
    "        X_train, X_test = X[train_index], X[test_index]\n",
    "        y_train, y_test = y[train_index], y[test_index]\n",
    "        model.fit(X_train, y_train)\n",
    "        y_train_data_pred = model.predict(X_train)\n",
    "        y_test_data_pred = model.predict(X_test)\n",
    "        fold_training_error = np.sqrt(mean_squared_error(y_train, y_train_data_pred)) \n",
    "        fold_testing_error = np.sqrt(mean_squared_error(y_test, y_test_data_pred))\n",
    "        list_training_error.append(fold_training_error)\n",
    "        list_testing_error.append(fold_testing_error)\n",
    "    \n",
    "    figsize=(5,5)\n",
    "    plt.plot(range(1, kf.get_n_splits() + 1), np.array(list_training_error).ravel(), 'o-', label = 'training')\n",
    "    plt.plot(range(1, kf.get_n_splits() + 1), np.array(list_testing_error).ravel(), 'o-', label = 'testing')\n",
    "    plt.xlabel('number of fold')\n",
    "    plt.ylabel('RMSE')\n",
    "    plt.title('RMSE across folds')\n",
    "    plt.legend()\n",
    "    plt.tight_layout()\n",
    "    plt.show()"
   ]
  },
  {
   "cell_type": "code",
   "execution_count": 46,
   "metadata": {},
   "outputs": [
    {
     "data": {
      "image/png": "[encoded data removed]",
      "text/plain": [
       "<Figure size 432x288 with 1 Axes>"
      ]
     },
     "metadata": {
      "needs_background": "light"
     },
     "output_type": "display_data"
    }
   ],
   "source": [
    "fit_check(rf_best, 4)"
   ]
  },
  {
   "cell_type": "markdown",
   "metadata": {},
   "source": [
    "### Final predicted model"
   ]
  },
  {
   "cell_type": "code",
   "execution_count": null,
   "metadata": {},
   "outputs": [],
   "source": []
  },
  {
   "cell_type": "code",
   "execution_count": null,
   "metadata": {},
   "outputs": [],
   "source": []
  },
  {
   "cell_type": "code",
   "execution_count": null,
   "metadata": {},
   "outputs": [],
   "source": []
  },
  {
   "cell_type": "markdown",
   "metadata": {},
   "source": [
    "### save the model to pickle"
   ]
  },
  {
   "cell_type": "code",
   "execution_count": null,
   "metadata": {},
   "outputs": [],
   "source": []
  }
 ],
 "metadata": {
  "kernelspec": {
   "display_name": "Python 3",
   "language": "python",
   "name": "python3"
  },
  "language_info": {
   "codemirror_mode": {
    "name": "ipython",
    "version": 3
   },
   "file_extension": ".py",
   "mimetype": "text/x-python",
   "name": "python",
   "nbconvert_exporter": "python",
   "pygments_lexer": "ipython3",
   "version": "3.7.9"
  }
 },
 "nbformat": 4,
 "nbformat_minor": 4
}
